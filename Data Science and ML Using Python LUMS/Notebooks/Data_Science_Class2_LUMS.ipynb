{
  "nbformat": 4,
  "nbformat_minor": 0,
  "metadata": {
    "colab": {
      "name": "Data Science Class2 LUMS.ipynb",
      "provenance": [],
      "collapsed_sections": []
    },
    "kernelspec": {
      "name": "python3",
      "display_name": "Python 3"
    },
    "language_info": {
      "name": "python"
    }
  },
  "cells": [
    {
      "cell_type": "markdown",
      "source": [
        "Code from 2nd class on python after orientation by LUMS course - Data Science and Machine Learning Using Python\n"
      ],
      "metadata": {
        "id": "SBj1QLvc917j"
      }
    },
    {
      "cell_type": "markdown",
      "source": [
        "**Subsetting List of Lists**"
      ],
      "metadata": {
        "id": "QNpJ45GgpiP6"
      }
    },
    {
      "cell_type": "code",
      "source": [
        "areas=[[\"hallway\", 11.25],[ \"kitchen\", 18.0],[\"living room\", 20.0],[ \"bedroom\",10.75],[\"bathroom\",9.50]]\n",
        "areas\n"
      ],
      "metadata": {
        "colab": {
          "base_uri": "https://localhost:8080/"
        },
        "id": "d6tz9nVBoK5o",
        "outputId": "29553061-d031-4d4b-c6aa-beb3066043e8"
      },
      "execution_count": 4,
      "outputs": [
        {
          "output_type": "execute_result",
          "data": {
            "text/plain": [
              "[['hallway', 11.25],\n",
              " ['kitchen', 18.0],\n",
              " ['living room', 20.0],\n",
              " ['bedroom', 10.75],\n",
              " ['bathroom', 9.5]]"
            ]
          },
          "metadata": {},
          "execution_count": 4
        }
      ]
    },
    {
      "cell_type": "code",
      "source": [
        "areas[2][:]"
      ],
      "metadata": {
        "colab": {
          "base_uri": "https://localhost:8080/"
        },
        "id": "ELudnmXHodH9",
        "outputId": "88dca308-4b2e-47f9-a4ea-c32670f3995a"
      },
      "execution_count": 5,
      "outputs": [
        {
          "output_type": "execute_result",
          "data": {
            "text/plain": [
              "['living room', 20.0]"
            ]
          },
          "metadata": {},
          "execution_count": 5
        }
      ]
    },
    {
      "cell_type": "code",
      "source": [
        "areas[2][0]"
      ],
      "metadata": {
        "colab": {
          "base_uri": "https://localhost:8080/",
          "height": 35
        },
        "id": "mqNe_X02oj7h",
        "outputId": "7baef053-2169-41c8-cb22-c0fdf8b6a322"
      },
      "execution_count": 6,
      "outputs": [
        {
          "output_type": "execute_result",
          "data": {
            "application/vnd.google.colaboratory.intrinsic+json": {
              "type": "string"
            },
            "text/plain": [
              "'living room'"
            ]
          },
          "metadata": {},
          "execution_count": 6
        }
      ]
    },
    {
      "cell_type": "code",
      "source": [
        "areas[1:3]"
      ],
      "metadata": {
        "colab": {
          "base_uri": "https://localhost:8080/"
        },
        "id": "WBdZ1LCPooWj",
        "outputId": "96b9c62b-5703-4b9b-ce94-43eb98169cdf"
      },
      "execution_count": 7,
      "outputs": [
        {
          "output_type": "execute_result",
          "data": {
            "text/plain": [
              "[['kitchen', 18.0], ['living room', 20.0]]"
            ]
          },
          "metadata": {},
          "execution_count": 7
        }
      ]
    },
    {
      "cell_type": "code",
      "source": [
        "areas[2:]"
      ],
      "metadata": {
        "colab": {
          "base_uri": "https://localhost:8080/"
        },
        "id": "ZVReoxqSou86",
        "outputId": "4e1aaa0e-3af5-42af-a262-711ad0a5a617"
      },
      "execution_count": 11,
      "outputs": [
        {
          "output_type": "execute_result",
          "data": {
            "text/plain": [
              "[['living room', 20.0], ['bedroom', 10.75], ['bathroom', 9.5]]"
            ]
          },
          "metadata": {},
          "execution_count": 11
        }
      ]
    },
    {
      "cell_type": "code",
      "source": [
        "areas[-2:]"
      ],
      "metadata": {
        "colab": {
          "base_uri": "https://localhost:8080/"
        },
        "id": "HN2FYe-bpIq7",
        "outputId": "b8cbc3f1-6dfa-438e-aa5f-a5344cdb578e"
      },
      "execution_count": 12,
      "outputs": [
        {
          "output_type": "execute_result",
          "data": {
            "text/plain": [
              "[['bedroom', 10.75], ['bathroom', 9.5]]"
            ]
          },
          "metadata": {},
          "execution_count": 12
        }
      ]
    },
    {
      "cell_type": "markdown",
      "source": [
        "**Updating a List**"
      ],
      "metadata": {
        "id": "SjQtP3daoLS_"
      }
    },
    {
      "cell_type": "code",
      "execution_count": 46,
      "metadata": {
        "id": "1h_DOg9r9z8V",
        "colab": {
          "base_uri": "https://localhost:8080/"
        },
        "outputId": "f696800e-fd0f-4ec9-cc58-69d5c2cd5533"
      },
      "outputs": [
        {
          "output_type": "stream",
          "name": "stdout",
          "text": [
            "['hallway', 11.25, 'kitchen', 18.0, 'living room', 20.0, 'bedroom', 10.75, 'bathroom', 9.5]\n"
          ]
        }
      ],
      "source": [
        "areas=[\"hallway\", 11.25, \"kitchen\", 18.0,\"living room\", 20.0, \"bedroom\",10.75,\"bathroom\",9.50]\n",
        "print(areas)"
      ]
    },
    {
      "cell_type": "code",
      "source": [
        "areas[-1]"
      ],
      "metadata": {
        "colab": {
          "base_uri": "https://localhost:8080/"
        },
        "id": "YrxHVlkXn8oW",
        "outputId": "f78ea9b3-96e4-4f51-abcf-1fda1cfbff49"
      },
      "execution_count": 47,
      "outputs": [
        {
          "output_type": "execute_result",
          "data": {
            "text/plain": [
              "9.5"
            ]
          },
          "metadata": {},
          "execution_count": 47
        }
      ]
    },
    {
      "cell_type": "code",
      "source": [
        "areas[-1]=10.50\n",
        "print(areas)"
      ],
      "metadata": {
        "colab": {
          "base_uri": "https://localhost:8080/"
        },
        "id": "COcAXAHUoEs8",
        "outputId": "34043de7-cca3-4258-f86e-2a25d8fde65d"
      },
      "execution_count": 49,
      "outputs": [
        {
          "output_type": "stream",
          "name": "stdout",
          "text": [
            "['hallway', 11.25, 'kitchen', 18.0, 'living room', 20.0, 'bedroom', 10.75, 'bathroom', 10.5]\n"
          ]
        }
      ]
    },
    {
      "cell_type": "code",
      "source": [
        "len(areas)"
      ],
      "metadata": {
        "colab": {
          "base_uri": "https://localhost:8080/"
        },
        "id": "QfzTzN77oJPb",
        "outputId": "8f1dfc46-2225-4525-e9d5-f3ea77c9cf8f"
      },
      "execution_count": 50,
      "outputs": [
        {
          "output_type": "execute_result",
          "data": {
            "text/plain": [
              "10"
            ]
          },
          "metadata": {},
          "execution_count": 50
        }
      ]
    },
    {
      "cell_type": "code",
      "source": [
        "areas[4]=\"chill zone\"\n",
        "print(areas)"
      ],
      "metadata": {
        "colab": {
          "base_uri": "https://localhost:8080/"
        },
        "id": "k4pPaCUupW1s",
        "outputId": "c74d0ebe-1c56-45e3-c9ab-028d3a8f7181"
      },
      "execution_count": 51,
      "outputs": [
        {
          "output_type": "stream",
          "name": "stdout",
          "text": [
            "['hallway', 11.25, 'kitchen', 18.0, 'chill zone', 20.0, 'bedroom', 10.75, 'bathroom', 10.5]\n"
          ]
        }
      ]
    },
    {
      "cell_type": "markdown",
      "source": [
        "**Extending a List**"
      ],
      "metadata": {
        "id": "cnAhJ3rWqKMF"
      }
    },
    {
      "cell_type": "code",
      "source": [
        "#using append method\n",
        "areas.append(\"poolhouse\")\n",
        "areas.append(24.5)\n",
        "print(areas)"
      ],
      "metadata": {
        "colab": {
          "base_uri": "https://localhost:8080/"
        },
        "id": "6Ktji4bpqDi7",
        "outputId": "19850deb-b8b1-4382-f67a-c2164ebca2f5"
      },
      "execution_count": 52,
      "outputs": [
        {
          "output_type": "stream",
          "name": "stdout",
          "text": [
            "['hallway', 11.25, 'kitchen', 18.0, 'chill zone', 20.0, 'bedroom', 10.75, 'bathroom', 10.5, 'poolhouse', 24.5]\n"
          ]
        }
      ]
    },
    {
      "cell_type": "code",
      "source": [
        "#removing elements from a list\n",
        "areas.pop()\n",
        "print(areas)"
      ],
      "metadata": {
        "colab": {
          "base_uri": "https://localhost:8080/"
        },
        "id": "-X4k6BLpqXm2",
        "outputId": "0e0e9ab4-5434-4841-f7f0-f7f5045ae3a2"
      },
      "execution_count": 53,
      "outputs": [
        {
          "output_type": "stream",
          "name": "stdout",
          "text": [
            "['hallway', 11.25, 'kitchen', 18.0, 'chill zone', 20.0, 'bedroom', 10.75, 'bathroom', 10.5, 'poolhouse']\n"
          ]
        }
      ]
    },
    {
      "cell_type": "code",
      "source": [
        "areas.pop()\n",
        "print(areas)"
      ],
      "metadata": {
        "colab": {
          "base_uri": "https://localhost:8080/"
        },
        "id": "D6bywb7ors1r",
        "outputId": "ea9486e9-32a0-4f37-fdf8-98c7c27523ce"
      },
      "execution_count": 54,
      "outputs": [
        {
          "output_type": "stream",
          "name": "stdout",
          "text": [
            "['hallway', 11.25, 'kitchen', 18.0, 'chill zone', 20.0, 'bedroom', 10.75, 'bathroom', 10.5]\n"
          ]
        }
      ]
    },
    {
      "cell_type": "markdown",
      "source": [
        "Using + operator"
      ],
      "metadata": {
        "id": "ksy50t-qsiDn"
      }
    },
    {
      "cell_type": "code",
      "source": [
        "#Using + operator\n",
        "areas_1=areas+[\"poolhouse\",24.5]\n",
        "#areas_1=[\"poolhouse\",24.5] + areas\n",
        "print(areas_1)"
      ],
      "metadata": {
        "colab": {
          "base_uri": "https://localhost:8080/"
        },
        "id": "_2vCgbgAphfv",
        "outputId": "3b2ff89c-7f5f-4c8a-a493-7f3d253483ef"
      },
      "execution_count": 55,
      "outputs": [
        {
          "output_type": "stream",
          "name": "stdout",
          "text": [
            "['hallway', 11.25, 'kitchen', 18.0, 'chill zone', 20.0, 'bedroom', 10.75, 'bathroom', 10.5, 'poolhouse', 24.5]\n"
          ]
        }
      ]
    },
    {
      "cell_type": "code",
      "source": [
        "areas_1=areas_1+[\"garage\", 15.45]\n",
        "print(areas_1)"
      ],
      "metadata": {
        "colab": {
          "base_uri": "https://localhost:8080/"
        },
        "id": "Xlt6dfMXrxCo",
        "outputId": "d333cf6f-e710-400c-948c-6fa8bb523d07"
      },
      "execution_count": 56,
      "outputs": [
        {
          "output_type": "stream",
          "name": "stdout",
          "text": [
            "['hallway', 11.25, 'kitchen', 18.0, 'chill zone', 20.0, 'bedroom', 10.75, 'bathroom', 10.5, 'poolhouse', 24.5, 'garage', 15.45]\n"
          ]
        }
      ]
    },
    {
      "cell_type": "markdown",
      "source": [
        "**Deleting List Elements**"
      ],
      "metadata": {
        "id": "lNEOQKEgrz67"
      }
    },
    {
      "cell_type": "code",
      "source": [
        "print(areas_1[-1])"
      ],
      "metadata": {
        "colab": {
          "base_uri": "https://localhost:8080/"
        },
        "id": "Sgvc-ToGsePo",
        "outputId": "79824ffe-a64d-46d7-eb77-83732bfec1af"
      },
      "execution_count": 57,
      "outputs": [
        {
          "output_type": "stream",
          "name": "stdout",
          "text": [
            "15.45\n"
          ]
        }
      ]
    },
    {
      "cell_type": "code",
      "source": [
        "# Deleting values one by one\n",
        "del(areas_1[-1])\n",
        "print(areas_1[-1])"
      ],
      "metadata": {
        "colab": {
          "base_uri": "https://localhost:8080/"
        },
        "id": "QnNQV7N6uBpt",
        "outputId": "7f8bd1c8-7cbd-4e29-8833-11ccc2cea925"
      },
      "execution_count": 58,
      "outputs": [
        {
          "output_type": "stream",
          "name": "stdout",
          "text": [
            "garage\n"
          ]
        }
      ]
    },
    {
      "cell_type": "code",
      "source": [
        "del(areas_1[-1])\n",
        "print(areas_1[-1])"
      ],
      "metadata": {
        "colab": {
          "base_uri": "https://localhost:8080/"
        },
        "id": "P17CleRHuGe-",
        "outputId": "d74b2001-be27-4297-9bd0-32cbb060db4d"
      },
      "execution_count": 59,
      "outputs": [
        {
          "output_type": "stream",
          "name": "stdout",
          "text": [
            "24.5\n"
          ]
        }
      ]
    },
    {
      "cell_type": "code",
      "source": [
        "print(areas_1)"
      ],
      "metadata": {
        "colab": {
          "base_uri": "https://localhost:8080/"
        },
        "id": "u-vXXjkOuKdS",
        "outputId": "07dfacdc-ee16-44d2-d0ed-d7db64d02a12"
      },
      "execution_count": 60,
      "outputs": [
        {
          "output_type": "stream",
          "name": "stdout",
          "text": [
            "['hallway', 11.25, 'kitchen', 18.0, 'chill zone', 20.0, 'bedroom', 10.75, 'bathroom', 10.5, 'poolhouse', 24.5]\n"
          ]
        }
      ]
    },
    {
      "cell_type": "code",
      "source": [
        "print(areas_1[-2:])"
      ],
      "metadata": {
        "colab": {
          "base_uri": "https://localhost:8080/"
        },
        "id": "l45GgbrfuMSf",
        "outputId": "c1775144-b3c1-43d0-d7dc-09d8495b080b"
      },
      "execution_count": 64,
      "outputs": [
        {
          "output_type": "stream",
          "name": "stdout",
          "text": [
            "['poolhouse', 24.5]\n"
          ]
        }
      ]
    },
    {
      "cell_type": "code",
      "source": [
        "# deleting values by providing a range\n",
        "del(areas_1[-2:])"
      ],
      "metadata": {
        "id": "wK9-IpoyuX8k"
      },
      "execution_count": 69,
      "outputs": []
    },
    {
      "cell_type": "code",
      "source": [
        "print(areas_1)"
      ],
      "metadata": {
        "colab": {
          "base_uri": "https://localhost:8080/"
        },
        "id": "OAg8BcWdumDj",
        "outputId": "f7309919-2054-4821-db3d-3f409dcf98f5"
      },
      "execution_count": 70,
      "outputs": [
        {
          "output_type": "stream",
          "name": "stdout",
          "text": [
            "['hallway', 11.25, 'kitchen', 18.0, 'chill zone', 20.0, 'bedroom', 10.75, 'bathroom', 10.5]\n"
          ]
        }
      ]
    },
    {
      "cell_type": "code",
      "source": [
        "areas_1=areas+[\"poolhouse\",24.5]\n",
        "#areas_1=[\"poolhouse\",24.5] + areas\n",
        "print(areas_1)"
      ],
      "metadata": {
        "colab": {
          "base_uri": "https://localhost:8080/"
        },
        "id": "2Q_qP0PVurJ7",
        "outputId": "d730bc9d-46e5-4839-e6ee-a0e4b7e754ed"
      },
      "execution_count": 71,
      "outputs": [
        {
          "output_type": "stream",
          "name": "stdout",
          "text": [
            "['hallway', 11.25, 'kitchen', 18.0, 'chill zone', 20.0, 'bedroom', 10.75, 'bathroom', 10.5, 'poolhouse', 24.5]\n"
          ]
        }
      ]
    },
    {
      "cell_type": "markdown",
      "source": [
        "**Introduction to Functions**"
      ],
      "metadata": {
        "id": "s96tpOSNxKHm"
      }
    },
    {
      "cell_type": "code",
      "source": [
        "var1=[1,2,3,4]\n",
        "var2=True"
      ],
      "metadata": {
        "id": "enkuIjn1vX_g"
      },
      "execution_count": 72,
      "outputs": []
    },
    {
      "cell_type": "code",
      "source": [
        "print(type(var1))"
      ],
      "metadata": {
        "colab": {
          "base_uri": "https://localhost:8080/"
        },
        "id": "PwwToaaA01VJ",
        "outputId": "a0c20bf9-3433-4299-e5f8-6cf0ddaefbd7"
      },
      "execution_count": 73,
      "outputs": [
        {
          "output_type": "stream",
          "name": "stdout",
          "text": [
            "<class 'list'>\n"
          ]
        }
      ]
    },
    {
      "cell_type": "code",
      "source": [
        "print(type(var2))"
      ],
      "metadata": {
        "colab": {
          "base_uri": "https://localhost:8080/"
        },
        "id": "90XENVyP022_",
        "outputId": "b35dd551-4084-40fd-e6da-8e4d7d4a9392"
      },
      "execution_count": 74,
      "outputs": [
        {
          "output_type": "stream",
          "name": "stdout",
          "text": [
            "<class 'bool'>\n"
          ]
        }
      ]
    },
    {
      "cell_type": "code",
      "source": [
        "print(len(var1))"
      ],
      "metadata": {
        "colab": {
          "base_uri": "https://localhost:8080/"
        },
        "id": "KcVCbf3d04XX",
        "outputId": "67c3b49c-ff39-404f-ec37-7d7e13430cb5"
      },
      "execution_count": 76,
      "outputs": [
        {
          "output_type": "stream",
          "name": "stdout",
          "text": [
            "4\n"
          ]
        }
      ]
    },
    {
      "cell_type": "code",
      "source": [
        "var2=True\n",
        "var3=int(var2)\n",
        "print(var3)\n",
        "print(type(var3))"
      ],
      "metadata": {
        "colab": {
          "base_uri": "https://localhost:8080/"
        },
        "id": "_aZGSo3M0-nm",
        "outputId": "ea54801b-9131-4b96-f486-fd69c75ea993"
      },
      "execution_count": 80,
      "outputs": [
        {
          "output_type": "stream",
          "name": "stdout",
          "text": [
            "1\n",
            "<class 'int'>\n"
          ]
        }
      ]
    },
    {
      "cell_type": "code",
      "source": [
        "var2=False\n",
        "var3=int(var2)\n",
        "print(var3)\n",
        "print(type(var3))"
      ],
      "metadata": {
        "colab": {
          "base_uri": "https://localhost:8080/"
        },
        "id": "Eryp1-n-1cTi",
        "outputId": "31f33db9-6b3b-442d-aafc-c022d1eb3c40"
      },
      "execution_count": 81,
      "outputs": [
        {
          "output_type": "stream",
          "name": "stdout",
          "text": [
            "0\n",
            "<class 'int'>\n"
          ]
        }
      ]
    },
    {
      "cell_type": "markdown",
      "source": [
        "**String Methods**"
      ],
      "metadata": {
        "id": "uyxoJm6N12Ms"
      }
    },
    {
      "cell_type": "markdown",
      "source": [
        "uppen(), lower(), count()"
      ],
      "metadata": {
        "id": "99ox905g1-M3"
      }
    },
    {
      "cell_type": "code",
      "source": [
        "place=\"poolhouse\"\n",
        "place2=place.upper()\n",
        "print(place2)"
      ],
      "metadata": {
        "colab": {
          "base_uri": "https://localhost:8080/"
        },
        "id": "m3bDrlmI10r8",
        "outputId": "fe2f06d0-df05-44c5-da99-178e061dfb8c"
      },
      "execution_count": 82,
      "outputs": [
        {
          "output_type": "stream",
          "name": "stdout",
          "text": [
            "POOLHOUSE\n"
          ]
        }
      ]
    },
    {
      "cell_type": "code",
      "source": [
        "place3=place2.lower()\n",
        "print(place3)"
      ],
      "metadata": {
        "colab": {
          "base_uri": "https://localhost:8080/"
        },
        "id": "IVzj7QjQ20gg",
        "outputId": "d8b39cef-0e64-4759-c846-24a39171f9bf"
      },
      "execution_count": 83,
      "outputs": [
        {
          "output_type": "stream",
          "name": "stdout",
          "text": [
            "poolhouse\n"
          ]
        }
      ]
    },
    {
      "cell_type": "code",
      "source": [
        "place=\"poolhouse\"\n",
        "print(place.count(\"o\"))"
      ],
      "metadata": {
        "colab": {
          "base_uri": "https://localhost:8080/"
        },
        "id": "4XwhAR4N27X0",
        "outputId": "a8c5ad01-1269-4738-a19c-0fd8dc1dda94"
      },
      "execution_count": 84,
      "outputs": [
        {
          "output_type": "stream",
          "name": "stdout",
          "text": [
            "3\n"
          ]
        }
      ]
    },
    {
      "cell_type": "code",
      "source": [
        "#alternative way for code above\n",
        "place=\"poolhouse\"\n",
        "placecount=place.count(\"o\")\n",
        "print(placecount)"
      ],
      "metadata": {
        "colab": {
          "base_uri": "https://localhost:8080/"
        },
        "id": "EdwLHmu63Fur",
        "outputId": "16c49c63-4e02-465b-c9d2-3a50beabde76"
      },
      "execution_count": 86,
      "outputs": [
        {
          "output_type": "stream",
          "name": "stdout",
          "text": [
            "3\n"
          ]
        }
      ]
    },
    {
      "cell_type": "markdown",
      "source": [
        "**List Methods**"
      ],
      "metadata": {
        "id": "Jn806aec3k5r"
      }
    },
    {
      "cell_type": "markdown",
      "source": [
        "\n",
        "*   index(): returns index of element given to it\n",
        "*   count(): counts and returns number of times an element comes in a list"
      ],
      "metadata": {
        "id": "HE6WrDXb4Qw2"
      }
    },
    {
      "cell_type": "code",
      "source": [
        "areas=[11.25,18.0,20.0,10.75,9.50]\n",
        "\n",
        "# get index of the list\n",
        "findindex=areas.index(20.0)\n",
        "\n",
        "# print index\n",
        "print(findindex)"
      ],
      "metadata": {
        "colab": {
          "base_uri": "https://localhost:8080/"
        },
        "id": "YL9l3yqu3WE_",
        "outputId": "49e881b9-bf34-4e86-e61a-b4def889966a"
      },
      "execution_count": 88,
      "outputs": [
        {
          "output_type": "stream",
          "name": "stdout",
          "text": [
            "2\n"
          ]
        }
      ]
    },
    {
      "cell_type": "code",
      "source": [
        "areas=[11.25,18.0,20.0,10.75,9.50]\n",
        "\n",
        "#getting count of number of times 9.50 occurs in areas list\n",
        "counting=areas.count(9.50)\n",
        "\n",
        "print(counting)"
      ],
      "metadata": {
        "colab": {
          "base_uri": "https://localhost:8080/"
        },
        "id": "u2a3tWcX5H5p",
        "outputId": "31193a20-b9e2-47ad-f3ee-10c8ab9d942b"
      },
      "execution_count": 91,
      "outputs": [
        {
          "output_type": "stream",
          "name": "stdout",
          "text": [
            "1\n"
          ]
        }
      ]
    },
    {
      "cell_type": "markdown",
      "source": [
        "**Further List Methods**"
      ],
      "metadata": {
        "id": "kncWKi2E6PsW"
      }
    },
    {
      "cell_type": "markdown",
      "source": [
        "   \n",
        "*   append(): it adds an element to a list\n",
        "*   remove(): it removes the element from a list that matches the input\n",
        "*   reverse():reverses the order of a list\n",
        "\n",
        "\n",
        "\n",
        "\n",
        "\n"
      ],
      "metadata": {
        "id": "tt4STBOF6StW"
      }
    },
    {
      "cell_type": "code",
      "source": [
        "areas=[11.25,18.0,20.0,10.75,9.50]\n",
        "\n",
        "# add 24.5 and 15.45 to areas list\n",
        "areas.append(24.5)\n",
        "areas.append(15.45)\n",
        "\n",
        "print(areas)\n"
      ],
      "metadata": {
        "colab": {
          "base_uri": "https://localhost:8080/"
        },
        "id": "MKDD9v9D5pKv",
        "outputId": "65e55554-6ab0-4f5e-f886-949bb9869c45"
      },
      "execution_count": 93,
      "outputs": [
        {
          "output_type": "stream",
          "name": "stdout",
          "text": [
            "[11.25, 18.0, 20.0, 10.75, 9.5, 24.5, 15.45]\n"
          ]
        }
      ]
    },
    {
      "cell_type": "code",
      "source": [
        "# Reverse the order of the list\n",
        "areas.reverse()\n",
        "\n",
        "#print list\n",
        "print(areas)"
      ],
      "metadata": {
        "colab": {
          "base_uri": "https://localhost:8080/"
        },
        "id": "RXMXTpLX7M-b",
        "outputId": "af90869a-d3c2-4807-956d-514076934530"
      },
      "execution_count": 96,
      "outputs": [
        {
          "output_type": "stream",
          "name": "stdout",
          "text": [
            "[15.45, 24.5, 9.5, 10.75, 20.0, 18.0, 11.25]\n"
          ]
        }
      ]
    },
    {
      "cell_type": "code",
      "source": [
        "# inplace methods are used to change the variable itself.\n",
        "#reverse() method is an inplace method\n",
        "areas_1 = areas.reverse()\n",
        "print(areas_1)\n",
        "# the above code returns no value"
      ],
      "metadata": {
        "colab": {
          "base_uri": "https://localhost:8080/"
        },
        "id": "BjtElDw471oO",
        "outputId": "2d38ba2f-725b-44ab-8cae-65ad2ae12592"
      },
      "execution_count": 98,
      "outputs": [
        {
          "output_type": "stream",
          "name": "stdout",
          "text": [
            "None\n"
          ]
        }
      ]
    },
    {
      "cell_type": "code",
      "source": [
        ""
      ],
      "metadata": {
        "id": "G9xqJy8V8_TC"
      },
      "execution_count": null,
      "outputs": []
    }
  ]
}