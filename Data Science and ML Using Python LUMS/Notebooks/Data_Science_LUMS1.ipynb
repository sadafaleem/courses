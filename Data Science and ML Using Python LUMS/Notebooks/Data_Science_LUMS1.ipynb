{
  "nbformat": 4,
  "nbformat_minor": 0,
  "metadata": {
    "colab": {
      "name": "Data Science LUMS1.ipynb",
      "provenance": [],
      "collapsed_sections": []
    },
    "kernelspec": {
      "name": "python3",
      "display_name": "Python 3"
    },
    "language_info": {
      "name": "python"
    }
  },
  "cells": [
    {
      "cell_type": "markdown",
      "source": [
        "Code from 1st class on python after orientation by LUMS course - Data Science and Machine Learning Using Python"
      ],
      "metadata": {
        "id": "ZmxgUGCNXw3g"
      }
    },
    {
      "cell_type": "markdown",
      "source": [
        "**Python as a Calculator**"
      ],
      "metadata": {
        "id": "vdsBwUJcMeZD"
      }
    },
    {
      "cell_type": "code",
      "execution_count": null,
      "metadata": {
        "id": "HlIMfeglXtF4",
        "colab": {
          "base_uri": "https://localhost:8080/"
        },
        "outputId": "194ed927-ea00-468d-aba5-28d7e4ef09a9"
      },
      "outputs": [
        {
          "output_type": "execute_result",
          "data": {
            "text/plain": [
              "8"
            ]
          },
          "metadata": {},
          "execution_count": 1
        }
      ],
      "source": [
        "4 *2"
      ]
    },
    {
      "cell_type": "code",
      "source": [
        "4 +2"
      ],
      "metadata": {
        "colab": {
          "base_uri": "https://localhost:8080/"
        },
        "id": "Y2lbpjZmMD-I",
        "outputId": "e1a94d09-8582-4324-813b-96ed23cddfb4"
      },
      "execution_count": null,
      "outputs": [
        {
          "output_type": "execute_result",
          "data": {
            "text/plain": [
              "6"
            ]
          },
          "metadata": {},
          "execution_count": 2
        }
      ]
    },
    {
      "cell_type": "code",
      "source": [
        "4 **2"
      ],
      "metadata": {
        "colab": {
          "base_uri": "https://localhost:8080/"
        },
        "id": "tMkyQfuVMRee",
        "outputId": "ec2ce55b-6daa-49f5-be98-5da8072ef76a"
      },
      "execution_count": null,
      "outputs": [
        {
          "output_type": "execute_result",
          "data": {
            "text/plain": [
              "16"
            ]
          },
          "metadata": {},
          "execution_count": 3
        }
      ]
    },
    {
      "cell_type": "code",
      "source": [
        "4/2"
      ],
      "metadata": {
        "colab": {
          "base_uri": "https://localhost:8080/"
        },
        "id": "pAHNiIa5MUEz",
        "outputId": "75be5f69-f702-489a-8f2a-e64cd42599fa"
      },
      "execution_count": null,
      "outputs": [
        {
          "output_type": "execute_result",
          "data": {
            "text/plain": [
              "2.0"
            ]
          },
          "metadata": {},
          "execution_count": 4
        }
      ]
    },
    {
      "cell_type": "code",
      "source": [
        "4%2"
      ],
      "metadata": {
        "colab": {
          "base_uri": "https://localhost:8080/"
        },
        "id": "Pds4_3qmMX5A",
        "outputId": "b878c60f-06eb-443a-b216-3c0724453c77"
      },
      "execution_count": null,
      "outputs": [
        {
          "output_type": "execute_result",
          "data": {
            "text/plain": [
              "0"
            ]
          },
          "metadata": {},
          "execution_count": 5
        }
      ]
    },
    {
      "cell_type": "code",
      "source": [
        "4%3"
      ],
      "metadata": {
        "colab": {
          "base_uri": "https://localhost:8080/"
        },
        "id": "xNVwbOvqMdTc",
        "outputId": "13572786-3116-4cfc-9ab5-b560efaf63d1"
      },
      "execution_count": null,
      "outputs": [
        {
          "output_type": "execute_result",
          "data": {
            "text/plain": [
              "1"
            ]
          },
          "metadata": {},
          "execution_count": 6
        }
      ]
    },
    {
      "cell_type": "markdown",
      "source": [
        "Task"
      ],
      "metadata": {
        "id": "R2OPSggJM4rs"
      }
    },
    {
      "cell_type": "code",
      "source": [
        "print(100*1.1**7)"
      ],
      "metadata": {
        "colab": {
          "base_uri": "https://localhost:8080/"
        },
        "id": "wec6IUqZMnaU",
        "outputId": "de314790-bed5-4191-b113-c3a99f617fea"
      },
      "execution_count": null,
      "outputs": [
        {
          "output_type": "stream",
          "name": "stdout",
          "text": [
            "194.87171000000012\n"
          ]
        }
      ]
    },
    {
      "cell_type": "markdown",
      "source": [
        "**Variable Assignment**"
      ],
      "metadata": {
        "id": "U2Ar-kbCSGdn"
      }
    },
    {
      "cell_type": "code",
      "source": [
        "x=5\n",
        "x"
      ],
      "metadata": {
        "colab": {
          "base_uri": "https://localhost:8080/"
        },
        "id": "wT7NUWRANAOs",
        "outputId": "32b68e1f-4e9e-4d6b-eeb5-020537003aaa"
      },
      "execution_count": null,
      "outputs": [
        {
          "output_type": "execute_result",
          "data": {
            "text/plain": [
              "5"
            ]
          },
          "metadata": {},
          "execution_count": 9
        }
      ]
    },
    {
      "cell_type": "code",
      "source": [
        "x*2"
      ],
      "metadata": {
        "colab": {
          "base_uri": "https://localhost:8080/"
        },
        "id": "AhCFrzLySQ1J",
        "outputId": "f28aa676-0a8f-43e4-a85b-abc9bcc909be"
      },
      "execution_count": null,
      "outputs": [
        {
          "output_type": "execute_result",
          "data": {
            "text/plain": [
              "10"
            ]
          },
          "metadata": {},
          "execution_count": 10
        }
      ]
    },
    {
      "cell_type": "code",
      "source": [
        "savings=100\n",
        "print(100)"
      ],
      "metadata": {
        "colab": {
          "base_uri": "https://localhost:8080/"
        },
        "id": "_iYTd512SahP",
        "outputId": "74294b45-d164-48cb-e49b-07926861ac10"
      },
      "execution_count": 3,
      "outputs": [
        {
          "output_type": "stream",
          "name": "stdout",
          "text": [
            "100\n"
          ]
        }
      ]
    },
    {
      "cell_type": "code",
      "source": [
        "print(\"my savings are \" + str(savings))"
      ],
      "metadata": {
        "colab": {
          "base_uri": "https://localhost:8080/"
        },
        "id": "wZC_ADqBDK-u",
        "outputId": "1f7ec120-3e33-432f-dafe-247bd4ebdb06"
      },
      "execution_count": 11,
      "outputs": [
        {
          "output_type": "stream",
          "name": "stdout",
          "text": [
            "my savings are 100\n"
          ]
        }
      ]
    },
    {
      "cell_type": "code",
      "source": [
        "print(\"name\")"
      ],
      "metadata": {
        "colab": {
          "base_uri": "https://localhost:8080/"
        },
        "id": "yzM-SgnJS7fH",
        "outputId": "c9956c3f-0ad0-463b-cf24-062f3ef2d0ff"
      },
      "execution_count": null,
      "outputs": [
        {
          "output_type": "stream",
          "name": "stdout",
          "text": [
            "name\n"
          ]
        }
      ]
    },
    {
      "cell_type": "markdown",
      "source": [
        "**Calculations with Variables**"
      ],
      "metadata": {
        "id": "9Q24fHxSUzW9"
      }
    },
    {
      "cell_type": "code",
      "source": [
        "growth_multiplier=1.1\n",
        "result=savings*growth_multiplier**7"
      ],
      "metadata": {
        "id": "vO6oNOp2UsrI"
      },
      "execution_count": 7,
      "outputs": []
    },
    {
      "cell_type": "code",
      "source": [
        "print(result)"
      ],
      "metadata": {
        "colab": {
          "base_uri": "https://localhost:8080/"
        },
        "id": "K9L7LruiB_Kb",
        "outputId": "e597d3ad-5def-40b3-abea-633f4e120c63"
      },
      "execution_count": 8,
      "outputs": [
        {
          "output_type": "stream",
          "name": "stdout",
          "text": [
            "194.87171000000012\n"
          ]
        }
      ]
    },
    {
      "cell_type": "markdown",
      "source": [
        "**Variable Types**\n",
        "String, float, boolean, integer"
      ],
      "metadata": {
        "id": "QLSrEbfkE8o_"
      }
    },
    {
      "cell_type": "code",
      "source": [
        "desc=\"compound interest\""
      ],
      "metadata": {
        "id": "h8O-VVpjCkp2"
      },
      "execution_count": 12,
      "outputs": []
    },
    {
      "cell_type": "code",
      "source": [
        "desc"
      ],
      "metadata": {
        "colab": {
          "base_uri": "https://localhost:8080/",
          "height": 35
        },
        "id": "y9n3F9JOFFM-",
        "outputId": "1d38dd7a-79c2-4103-91ff-8b95215369b7"
      },
      "execution_count": 13,
      "outputs": [
        {
          "output_type": "execute_result",
          "data": {
            "application/vnd.google.colaboratory.intrinsic+json": {
              "type": "string"
            },
            "text/plain": [
              "'compound interest'"
            ]
          },
          "metadata": {},
          "execution_count": 13
        }
      ]
    },
    {
      "cell_type": "code",
      "source": [
        "type(desc)"
      ],
      "metadata": {
        "colab": {
          "base_uri": "https://localhost:8080/"
        },
        "id": "gQWPiVaCFV_l",
        "outputId": "3cd0f083-d61e-43a6-eaaa-0f96a350cce4"
      },
      "execution_count": 14,
      "outputs": [
        {
          "output_type": "execute_result",
          "data": {
            "text/plain": [
              "str"
            ]
          },
          "metadata": {},
          "execution_count": 14
        }
      ]
    },
    {
      "cell_type": "code",
      "source": [
        "years=1\n",
        "growth_multiplier=1.1\n",
        "savings=100\n",
        "year1=savings*growth_multiplier**years\n",
        "type(year1)"
      ],
      "metadata": {
        "colab": {
          "base_uri": "https://localhost:8080/"
        },
        "id": "Q4hdTmYZFrvf",
        "outputId": "1061025e-79c0-4c74-f9ea-c7d34d2c7cb8"
      },
      "execution_count": 18,
      "outputs": [
        {
          "output_type": "execute_result",
          "data": {
            "text/plain": [
              "float"
            ]
          },
          "metadata": {},
          "execution_count": 18
        }
      ]
    },
    {
      "cell_type": "code",
      "source": [
        "desc=\"compund interest\"\n",
        "doubledesc=desc+desc\n",
        "#concatenation with stringa\n",
        "print(doubledesc)"
      ],
      "metadata": {
        "colab": {
          "base_uri": "https://localhost:8080/"
        },
        "id": "J9UM6PQiFdkt",
        "outputId": "f00393f5-2a34-4265-c9e2-9e6c584a0d83"
      },
      "execution_count": 22,
      "outputs": [
        {
          "output_type": "stream",
          "name": "stdout",
          "text": [
            "compund interestcompund interest\n"
          ]
        }
      ]
    },
    {
      "cell_type": "markdown",
      "source": [
        "**Type Conversion ***\n",
        "\n",
        "str(), int(), float(),bool()"
      ],
      "metadata": {
        "id": "uzn5lYz3IHzv"
      }
    },
    {
      "cell_type": "code",
      "source": [
        "savings=100\n",
        "type(str(savings))"
      ],
      "metadata": {
        "colab": {
          "base_uri": "https://localhost:8080/"
        },
        "id": "2gdGt_mbF2wU",
        "outputId": "f245419a-b589-44d2-e1f5-671d1787263d"
      },
      "execution_count": 29,
      "outputs": [
        {
          "output_type": "execute_result",
          "data": {
            "text/plain": [
              "str"
            ]
          },
          "metadata": {},
          "execution_count": 29
        }
      ]
    },
    {
      "cell_type": "code",
      "source": [
        "print(\"my savings are: \" + str(savings))"
      ],
      "metadata": {
        "colab": {
          "base_uri": "https://localhost:8080/"
        },
        "id": "WohMet34IkNm",
        "outputId": "cf00e09a-3ace-451c-d764-34435e63b193"
      },
      "execution_count": 30,
      "outputs": [
        {
          "output_type": "stream",
          "name": "stdout",
          "text": [
            "my savings are: 100\n"
          ]
        }
      ]
    },
    {
      "cell_type": "code",
      "source": [
        "pi_string=\"3.1415926\"\n",
        "print(type(pi_string))"
      ],
      "metadata": {
        "colab": {
          "base_uri": "https://localhost:8080/"
        },
        "id": "LaVC43sXInMX",
        "outputId": "6ae8c7ec-a49e-4d20-fed4-54aedd6e2101"
      },
      "execution_count": 34,
      "outputs": [
        {
          "output_type": "stream",
          "name": "stdout",
          "text": [
            "<class 'str'>\n"
          ]
        }
      ]
    },
    {
      "cell_type": "code",
      "source": [
        "pi_float=float(pi_string)\n",
        "print(type(pi_float))"
      ],
      "metadata": {
        "colab": {
          "base_uri": "https://localhost:8080/"
        },
        "id": "btDMYhjaJUiM",
        "outputId": "a2133914-94ab-4e88-ba4e-1313230d0ede"
      },
      "execution_count": 36,
      "outputs": [
        {
          "output_type": "stream",
          "name": "stdout",
          "text": [
            "<class 'float'>\n"
          ]
        }
      ]
    },
    {
      "cell_type": "markdown",
      "source": [
        "Lists"
      ],
      "metadata": {
        "id": "yc10FDDFbcYt"
      }
    },
    {
      "cell_type": "code",
      "source": [
        "hall=11.25\n",
        "kit=18.0\n",
        "liv=20.0\n",
        "bed=10.75\n",
        "bath=9.50\n",
        "areas=[hall, kit, liv, bed,bath]\n",
        "print(areas)"
      ],
      "metadata": {
        "colab": {
          "base_uri": "https://localhost:8080/"
        },
        "id": "gbfthXMIJqCM",
        "outputId": "529d051f-1fb4-4397-dd24-0df60422ae62"
      },
      "execution_count": 38,
      "outputs": [
        {
          "output_type": "stream",
          "name": "stdout",
          "text": [
            "[11.25, 18.0, 20.0, 10.75, 9.5]\n"
          ]
        }
      ]
    },
    {
      "cell_type": "code",
      "source": [
        "print(type(areas))"
      ],
      "metadata": {
        "colab": {
          "base_uri": "https://localhost:8080/"
        },
        "id": "rh4a2oQXc7i2",
        "outputId": "37cba990-0e22-4756-9853-7d5abe5c7028"
      },
      "execution_count": 39,
      "outputs": [
        {
          "output_type": "stream",
          "name": "stdout",
          "text": [
            "<class 'list'>\n"
          ]
        }
      ]
    },
    {
      "cell_type": "markdown",
      "source": [
        "Creating List with Different Data Types"
      ],
      "metadata": {
        "id": "CrZayND8dSqi"
      }
    },
    {
      "cell_type": "code",
      "source": [
        "areas=[\"hallway\", hall, \"kitchen\",kit, \"living room\", liv, \"bedroom\", bed, \"bathroom\", bath]\n",
        "print(areas)"
      ],
      "metadata": {
        "colab": {
          "base_uri": "https://localhost:8080/"
        },
        "id": "LmPVxdhTdHON",
        "outputId": "306a7364-923b-497d-e840-f309179940c0"
      },
      "execution_count": 40,
      "outputs": [
        {
          "output_type": "stream",
          "name": "stdout",
          "text": [
            "['hallway', 11.25, 'kitchen', 18.0, 'living room', 20.0, 'bedroom', 10.75, 'bathroom', 9.5]\n"
          ]
        }
      ]
    },
    {
      "cell_type": "markdown",
      "source": [
        "List of Lists"
      ],
      "metadata": {
        "id": "vSIxq4GZe36T"
      }
    },
    {
      "cell_type": "code",
      "source": [
        "house=[[\"hallway\", hall], [\"kitchen\",kit], [\"living room\", liv], [\"bedroom\", bed], [\"bathroom\", bath]]\n",
        "print(house)\n"
      ],
      "metadata": {
        "colab": {
          "base_uri": "https://localhost:8080/"
        },
        "id": "W6Mn8HyOd06z",
        "outputId": "a5bcc0c1-ac72-4ea5-b616-dd044a6f3e12"
      },
      "execution_count": 43,
      "outputs": [
        {
          "output_type": "stream",
          "name": "stdout",
          "text": [
            "[['hallway', 11.25], ['kitchen', 18.0], ['living room', 20.0], ['bedroom', 10.75], ['bathroom', 9.5]]\n"
          ]
        }
      ]
    },
    {
      "cell_type": "code",
      "source": [
        "hall=[\"hallway\", 11.25]\n",
        "kit=[\"kitchen\",18.0]\n",
        "liv=[\"living room\", 20.0]\n",
        "bed=[\"bedroom\", 10.75]\n",
        "bath=[\"bathroom\", 9.5]\n",
        "\n",
        "house=[hall, kit, liv, bed, bath]\n",
        "print(house)\n"
      ],
      "metadata": {
        "colab": {
          "base_uri": "https://localhost:8080/"
        },
        "id": "mL4bnaSwfxvI",
        "outputId": "af906418-48f8-4ea7-d1ab-85480fe6c8d9"
      },
      "execution_count": 44,
      "outputs": [
        {
          "output_type": "stream",
          "name": "stdout",
          "text": [
            "[['hallway', 11.25], ['kitchen', 18.0], ['living room', 20.0], ['bedroom', 10.75], ['bathroom', 9.5]]\n"
          ]
        }
      ]
    },
    {
      "cell_type": "markdown",
      "source": [
        "**Subsetting**"
      ],
      "metadata": {
        "id": "AzSv0ShO1yUY"
      }
    },
    {
      "cell_type": "code",
      "source": [
        "areas=[\"hallway\", 11.25, \"kitchen\",18.0, \"living room\", 20.0, \"bedroom\", 10.75, \"bathroom\", 9.5]\n",
        "#positive index\n",
        "areas[1]"
      ],
      "metadata": {
        "colab": {
          "base_uri": "https://localhost:8080/"
        },
        "id": "weN_odkbgtZq",
        "outputId": "93e65340-92e1-4fa5-a460-c25da2779e2f"
      },
      "execution_count": 4,
      "outputs": [
        {
          "output_type": "execute_result",
          "data": {
            "text/plain": [
              "11.25"
            ]
          },
          "metadata": {},
          "execution_count": 4
        }
      ]
    },
    {
      "cell_type": "code",
      "source": [
        "#checking length of list\n",
        "len(areas)"
      ],
      "metadata": {
        "colab": {
          "base_uri": "https://localhost:8080/"
        },
        "id": "aBlVeByx3Gfm",
        "outputId": "81a927da-e4d1-45ca-9d5c-c77e7c692f56"
      },
      "execution_count": 6,
      "outputs": [
        {
          "output_type": "execute_result",
          "data": {
            "text/plain": [
              "10"
            ]
          },
          "metadata": {},
          "execution_count": 6
        }
      ]
    },
    {
      "cell_type": "code",
      "source": [
        "# Negative index\n",
        "areas[-9]"
      ],
      "metadata": {
        "colab": {
          "base_uri": "https://localhost:8080/"
        },
        "id": "0TwL9z6k3KWx",
        "outputId": "d1142ad3-8500-42e9-d30d-991317a8f048"
      },
      "execution_count": 3,
      "outputs": [
        {
          "output_type": "execute_result",
          "data": {
            "text/plain": [
              "11.25"
            ]
          },
          "metadata": {},
          "execution_count": 3
        }
      ]
    },
    {
      "cell_type": "code",
      "source": [
        "areas[-1]"
      ],
      "metadata": {
        "colab": {
          "base_uri": "https://localhost:8080/"
        },
        "id": "SqyvDEDA3M3S",
        "outputId": "bcd99e66-7fdf-4d31-ee8b-adbb19f7c79c"
      },
      "execution_count": 7,
      "outputs": [
        {
          "output_type": "execute_result",
          "data": {
            "text/plain": [
              "9.5"
            ]
          },
          "metadata": {},
          "execution_count": 7
        }
      ]
    },
    {
      "cell_type": "code",
      "source": [
        "areas[9]"
      ],
      "metadata": {
        "colab": {
          "base_uri": "https://localhost:8080/"
        },
        "id": "Y9vRilHy3n0R",
        "outputId": "dec4f0aa-f42c-459a-ff5c-fe4df47b56c7"
      },
      "execution_count": 9,
      "outputs": [
        {
          "output_type": "execute_result",
          "data": {
            "text/plain": [
              "9.5"
            ]
          },
          "metadata": {},
          "execution_count": 9
        }
      ]
    },
    {
      "cell_type": "markdown",
      "source": [
        "**Subsets and Calculate**"
      ],
      "metadata": {
        "id": "cbyFoka-3y0r"
      }
    },
    {
      "cell_type": "code",
      "source": [
        "eat_sleep_area=areas[3]+areas[-3]\n",
        "print(eat_sleep_area)"
      ],
      "metadata": {
        "colab": {
          "base_uri": "https://localhost:8080/"
        },
        "id": "rMsniJSe3qeD",
        "outputId": "e34d7435-39e7-4459-f7a9-adf874b1c3bb"
      },
      "execution_count": 11,
      "outputs": [
        {
          "output_type": "stream",
          "name": "stdout",
          "text": [
            "28.75\n"
          ]
        }
      ]
    },
    {
      "cell_type": "markdown",
      "source": [
        "**Slicing and Dicing**"
      ],
      "metadata": {
        "id": "FTAvZqvB44Yd"
      }
    },
    {
      "cell_type": "code",
      "source": [
        "areas[:4]\n",
        "# last value/ ending point is not included\n",
        "#starting point is included "
      ],
      "metadata": {
        "colab": {
          "base_uri": "https://localhost:8080/"
        },
        "id": "wBLtBgo_4TaU",
        "outputId": "9d3c5954-05dc-481e-b832-0cf59ce26071"
      },
      "execution_count": 15,
      "outputs": [
        {
          "output_type": "execute_result",
          "data": {
            "text/plain": [
              "['hallway', 11.25, 'kitchen', 18.0]"
            ]
          },
          "metadata": {},
          "execution_count": 15
        }
      ]
    },
    {
      "cell_type": "code",
      "source": [
        "areas[2:4]"
      ],
      "metadata": {
        "colab": {
          "base_uri": "https://localhost:8080/"
        },
        "id": "M1VwTnji5DMw",
        "outputId": "86b78e9c-b979-43e5-e056-b9bd2461f30d"
      },
      "execution_count": 16,
      "outputs": [
        {
          "output_type": "execute_result",
          "data": {
            "text/plain": [
              "['kitchen', 18.0]"
            ]
          },
          "metadata": {},
          "execution_count": 16
        }
      ]
    },
    {
      "cell_type": "code",
      "source": [
        "downstairs=areas[:6]\n",
        "print(downstairs)"
      ],
      "metadata": {
        "colab": {
          "base_uri": "https://localhost:8080/"
        },
        "id": "Eg6Jiyr95pF_",
        "outputId": "91734c7f-971a-4573-a719-dda3d564a8e1"
      },
      "execution_count": 19,
      "outputs": [
        {
          "output_type": "stream",
          "name": "stdout",
          "text": [
            "['hallway', 11.25, 'kitchen', 18.0, 'living room', 20.0]\n"
          ]
        }
      ]
    },
    {
      "cell_type": "code",
      "source": [
        "#negative indexing\n",
        "downstairs2=areas[:-4]\n",
        "print(downstairs2)"
      ],
      "metadata": {
        "colab": {
          "base_uri": "https://localhost:8080/"
        },
        "id": "mCPzmtqc6p3G",
        "outputId": "bc101205-536e-40bc-a387-f9856157d8e2"
      },
      "execution_count": 22,
      "outputs": [
        {
          "output_type": "stream",
          "name": "stdout",
          "text": [
            "['hallway', 11.25, 'kitchen', 18.0, 'living room', 20.0]\n"
          ]
        }
      ]
    },
    {
      "cell_type": "code",
      "source": [
        "upstairs=areas[-4:]\n",
        "print(upstairs)"
      ],
      "metadata": {
        "colab": {
          "base_uri": "https://localhost:8080/"
        },
        "id": "M8GNFe385_9S",
        "outputId": "503c0be4-8eb2-4e9c-bd9e-cfbe4f336020"
      },
      "execution_count": 20,
      "outputs": [
        {
          "output_type": "stream",
          "name": "stdout",
          "text": [
            "['bedroom', 10.75, 'bathroom', 9.5]\n"
          ]
        }
      ]
    },
    {
      "cell_type": "code",
      "source": [
        "# positive indexing\n",
        "upstairs2=areas[6:]\n",
        "print(upstairs2)"
      ],
      "metadata": {
        "colab": {
          "base_uri": "https://localhost:8080/"
        },
        "id": "Oel1IPIP6Ura",
        "outputId": "2a26bd3c-fb38-494e-e88b-cadec9c28541"
      },
      "execution_count": 30,
      "outputs": [
        {
          "output_type": "stream",
          "name": "stdout",
          "text": [
            "['bedroom', 10.75, 'bathroom', 9.5]\n"
          ]
        }
      ]
    },
    {
      "cell_type": "code",
      "source": [
        "upstairs3=areas[6:10]\n",
        "print(upstairs3)"
      ],
      "metadata": {
        "colab": {
          "base_uri": "https://localhost:8080/"
        },
        "id": "RrEIuAuU65dj",
        "outputId": "9a011e4b-7b9c-4b06-9194-3a28fa0f627b"
      },
      "execution_count": 25,
      "outputs": [
        {
          "output_type": "stream",
          "name": "stdout",
          "text": [
            "['bedroom', 10.75, 'bathroom', 9.5]\n"
          ]
        }
      ]
    },
    {
      "cell_type": "code",
      "source": [
        ""
      ],
      "metadata": {
        "id": "22QktqiT6k_r"
      },
      "execution_count": null,
      "outputs": []
    }
  ]
}