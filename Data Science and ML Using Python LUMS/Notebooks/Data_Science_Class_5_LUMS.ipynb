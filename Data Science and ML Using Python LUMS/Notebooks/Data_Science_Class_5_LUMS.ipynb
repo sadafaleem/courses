{
  "nbformat": 4,
  "nbformat_minor": 0,
  "metadata": {
    "colab": {
      "name": "Data Science Class 5 LUMS.ipynb",
      "provenance": [],
      "collapsed_sections": []
    },
    "kernelspec": {
      "name": "python3",
      "display_name": "Python 3"
    },
    "language_info": {
      "name": "python"
    }
  },
  "cells": [
    {
      "cell_type": "markdown",
      "source": [
        "Code from 5th class on python after orientation by LUMS course - Data Science \n",
        "and Machine Learning Using Python"
      ],
      "metadata": {
        "id": "iINKTiPTFqUb"
      }
    },
    {
      "cell_type": "markdown",
      "source": [
        "**Dictionaries in Python**"
      ],
      "metadata": {
        "id": "Hv_DSozxb84t"
      }
    },
    {
      "cell_type": "markdown",
      "source": [
        "Use the index() method on countries to find the index of 'germany'. Store this index as ind_ger.\n",
        "Use ind_ger to access the capital of Germany from the capitals list. Print it out."
      ],
      "metadata": {
        "id": "5qKB1HpUcWAY"
      }
    },
    {
      "cell_type": "code",
      "source": [
        "countries = ['spain', 'france', 'germany', 'norway']\n",
        "capitals = ['madrid', 'paris', 'berlin', 'oslo']"
      ],
      "metadata": {
        "id": "iFn4QX2lb8l-"
      },
      "execution_count": 1,
      "outputs": []
    },
    {
      "cell_type": "code",
      "execution_count": 2,
      "metadata": {
        "colab": {
          "base_uri": "https://localhost:8080/"
        },
        "id": "SvgqR8CdFkad",
        "outputId": "05044b58-fc14-489c-eec8-8c7822c578b8"
      },
      "outputs": [
        {
          "output_type": "execute_result",
          "data": {
            "text/plain": [
              "2"
            ]
          },
          "metadata": {},
          "execution_count": 2
        }
      ],
      "source": [
        "countries.index(\"germany\")"
      ]
    },
    {
      "cell_type": "code",
      "source": [
        "ind_ger=countries.index(\"germany\")\n",
        "\n",
        "capitals[ind_ger]"
      ],
      "metadata": {
        "colab": {
          "base_uri": "https://localhost:8080/",
          "height": 35
        },
        "id": "JzJbCYaecTWb",
        "outputId": "8769454d-a47b-4c2a-db06-6f113a5daf4a"
      },
      "execution_count": 3,
      "outputs": [
        {
          "output_type": "execute_result",
          "data": {
            "application/vnd.google.colaboratory.intrinsic+json": {
              "type": "string"
            },
            "text/plain": [
              "'berlin'"
            ]
          },
          "metadata": {},
          "execution_count": 3
        }
      ]
    },
    {
      "cell_type": "code",
      "source": [
        "# Example: Creating a dictionary Dist from two list keys and values and printing the data type of Dist\n",
        "#creating keys and values\n",
        "keys = ['name', 'age', 'food']\n",
        "values = ['Monty', 42, 'hotdog']\n",
        "#creating a dictionary - Dist\n",
        "Dist={'name':'Monty', 'age':42,'food':' hotdog'}\n",
        "print(Dist)\n",
        "#print data type\n",
        "print(type(Dist))"
      ],
      "metadata": {
        "colab": {
          "base_uri": "https://localhost:8080/"
        },
        "id": "MC1ilwg9cfeY",
        "outputId": "0426ff47-56e1-4c2c-8f1a-4efb0f78c295"
      },
      "execution_count": 4,
      "outputs": [
        {
          "output_type": "stream",
          "name": "stdout",
          "text": [
            "{'name': 'Monty', 'age': 42, 'food': ' hotdog'}\n",
            "<class 'dict'>\n"
          ]
        }
      ]
    },
    {
      "cell_type": "markdown",
      "source": [
        "**Task** Using countries and capitals lists, create a dictionary called europe with 4 key:value\n",
        "pairs."
      ],
      "metadata": {
        "id": "JQQNmp2Xc1H8"
      }
    },
    {
      "cell_type": "code",
      "source": [
        "countries = ['spain', 'france', 'germany', 'norway']\n",
        "capitals = ['madrid', 'paris', 'berlin', 'oslo']\n",
        "\n",
        "# From string in countries and capitals, create dictionary Europe\n",
        "europe = { 'spain':'madrid', 'france':'paris','germany':'berlin', 'norway':'oslo'}\n",
        "# Print Europe\n",
        "print(europe)"
      ],
      "metadata": {
        "colab": {
          "base_uri": "https://localhost:8080/"
        },
        "id": "cLM-ubkCcwT3",
        "outputId": "69b84d72-5b65-44ed-fa02-9fcd19788001"
      },
      "execution_count": 5,
      "outputs": [
        {
          "output_type": "stream",
          "name": "stdout",
          "text": [
            "{'spain': 'madrid', 'france': 'paris', 'germany': 'berlin', 'norway': 'oslo'}\n"
          ]
        }
      ]
    },
    {
      "cell_type": "code",
      "source": [
        "# Get name from the Dict dictionary\n",
        "#using a dictionary\n",
        "Dict={'name': 'Monty', 'age': 42, 'food': 'hotdog'}\n",
        "#print out name\n",
        "print(Dict['name'])"
      ],
      "metadata": {
        "colab": {
          "base_uri": "https://localhost:8080/"
        },
        "id": "zXl7UaWAc_lf",
        "outputId": "434d027c-5988-4cca-fd40-c34fb56a9931"
      },
      "execution_count": 6,
      "outputs": [
        {
          "output_type": "stream",
          "name": "stdout",
          "text": [
            "Monty\n"
          ]
        }
      ]
    },
    {
      "cell_type": "markdown",
      "source": [
        "Check out which keys are in europe by calling the keys() method on europe. Print out\n",
        "the result."
      ],
      "metadata": {
        "id": "k8AW01YkdnDu"
      }
    },
    {
      "cell_type": "code",
      "source": [
        "print(europe.keys())"
      ],
      "metadata": {
        "colab": {
          "base_uri": "https://localhost:8080/"
        },
        "id": "UedCrpiWdZAC",
        "outputId": "27e0355c-2d50-4c10-af9f-c6cb31d76353"
      },
      "execution_count": 7,
      "outputs": [
        {
          "output_type": "stream",
          "name": "stdout",
          "text": [
            "dict_keys(['spain', 'france', 'germany', 'norway'])\n"
          ]
        }
      ]
    },
    {
      "cell_type": "markdown",
      "source": [
        "Print out the value that belongs to the key 'norway‘ from your dictionary."
      ],
      "metadata": {
        "id": "ElKsT9ijdt4c"
      }
    },
    {
      "cell_type": "code",
      "source": [
        "print(europe['norway'])"
      ],
      "metadata": {
        "colab": {
          "base_uri": "https://localhost:8080/"
        },
        "id": "pmD2MJIedqCY",
        "outputId": "c07c4b8f-cb3a-4a36-a57e-94110778366b"
      },
      "execution_count": 8,
      "outputs": [
        {
          "output_type": "stream",
          "name": "stdout",
          "text": [
            "oslo\n"
          ]
        }
      ]
    },
    {
      "cell_type": "markdown",
      "source": [
        "**Dictionary Manipulation - Addition**"
      ],
      "metadata": {
        "id": "k3nvubnpAGCf"
      }
    },
    {
      "cell_type": "code",
      "source": [
        "#  add a new value to a dictionary\n",
        "#creating a dictionary - Dist\n",
        "Dist={'name':'Monty', 'age':42,'food':\n",
        "' hotdog'}\n",
        "Dist['height']= 6.1\n",
        "print(Dist)\n"
      ],
      "metadata": {
        "colab": {
          "base_uri": "https://localhost:8080/"
        },
        "id": "sau_Zqmbdx4P",
        "outputId": "d93e94b9-825a-4b6f-a840-a932d3988a87"
      },
      "execution_count": 9,
      "outputs": [
        {
          "output_type": "stream",
          "name": "stdout",
          "text": [
            "{'name': 'Monty', 'age': 42, 'food': ' hotdog', 'height': 6.1}\n"
          ]
        }
      ]
    },
    {
      "cell_type": "markdown",
      "source": [
        "**Task** Add the key 'italy' with the value 'rome' to europe and print out europe."
      ],
      "metadata": {
        "id": "vnLBrZqHAa57"
      }
    },
    {
      "cell_type": "code",
      "source": [
        "# dictionary Europe\n",
        "europe = { 'spain':'madrid', 'france':'paris','germany':'berlin', 'norway':'oslo' }\n",
        "# Print Europe\n",
        "print(europe)\n",
        "#Add the key 'italy' with the value 'rome' to europe.\n",
        "europe['italy']= 'rome'\n",
        "# Print Europe\n",
        "print(europe)"
      ],
      "metadata": {
        "colab": {
          "base_uri": "https://localhost:8080/"
        },
        "id": "YGkCQ3yPAVkS",
        "outputId": "82bf996f-b749-4ec9-99b5-928e4d49fc35"
      },
      "execution_count": 10,
      "outputs": [
        {
          "output_type": "stream",
          "name": "stdout",
          "text": [
            "{'spain': 'madrid', 'france': 'paris', 'germany': 'berlin', 'norway': 'oslo'}\n",
            "{'spain': 'madrid', 'france': 'paris', 'germany': 'berlin', 'norway': 'oslo', 'italy': 'rome'}\n"
          ]
        }
      ]
    },
    {
      "cell_type": "markdown",
      "source": [
        "**Task:** Add these two key:value pairs to europe: 'poland‘ 'warsaw & 'iceland' 'reykjavik’.\n",
        "Print out europe"
      ],
      "metadata": {
        "id": "51ALYRjzAlMi"
      }
    },
    {
      "cell_type": "code",
      "source": [
        "europe[\"poland\"]=\"warsaw\"\n",
        "europe[\"iceland\"]=\"reykjavik\"\n",
        "print(europe)"
      ],
      "metadata": {
        "colab": {
          "base_uri": "https://localhost:8080/"
        },
        "id": "LusYf7TUAfpl",
        "outputId": "6f58a644-a705-46d4-cfcd-d17109bd0c12"
      },
      "execution_count": 11,
      "outputs": [
        {
          "output_type": "stream",
          "name": "stdout",
          "text": [
            "{'spain': 'madrid', 'france': 'paris', 'germany': 'berlin', 'norway': 'oslo', 'italy': 'rome', 'poland': 'warsaw', 'iceland': 'reykjavik'}\n"
          ]
        }
      ]
    },
    {
      "cell_type": "markdown",
      "source": [
        "Add another two key:value pairs to europe: 'australia':'vienna' & 'germany'\n",
        ":'bonn'."
      ],
      "metadata": {
        "id": "rpJLzODiA-fd"
      }
    },
    {
      "cell_type": "code",
      "source": [
        "#Add the key australia with the value vienna' to europe.\n",
        "europe['australia']= 'vienna'\n",
        "#update the value of germany\n",
        "europe['germany']= 'bonn'\n",
        "# Print Europe\n",
        "print(europe)"
      ],
      "metadata": {
        "colab": {
          "base_uri": "https://localhost:8080/"
        },
        "id": "tQBHJkAeA03j",
        "outputId": "499c9587-e607-41cf-8d8a-a0c7e6b4ede8"
      },
      "execution_count": 12,
      "outputs": [
        {
          "output_type": "stream",
          "name": "stdout",
          "text": [
            "{'spain': 'madrid', 'france': 'paris', 'germany': 'bonn', 'norway': 'oslo', 'italy': 'rome', 'poland': 'warsaw', 'iceland': 'reykjavik', 'australia': 'vienna'}\n"
          ]
        }
      ]
    },
    {
      "cell_type": "markdown",
      "source": [
        "**Dictionary Manipulation - Updating**"
      ],
      "metadata": {
        "id": "O4xL4T7O7AhR"
      }
    },
    {
      "cell_type": "markdown",
      "source": [
        "Can you clean up?\n",
        "Remember if a key already exists, then the value will be overwritten."
      ],
      "metadata": {
        "id": "prFKw-UgQouA"
      }
    },
    {
      "cell_type": "code",
      "source": [
        "# europe dictionary\n",
        "europe = {'spain': 'madrid', 'france': 'paris', 'germany': 'bonn', 'norway': 'oslo', 'italy': 'rome', 'iceland': 'reykjavik', 'poland': 'warsaw',\n",
        "'australia': 'vienna'}\n"
      ],
      "metadata": {
        "id": "S6alL9Y5BA8R"
      },
      "execution_count": 13,
      "outputs": []
    },
    {
      "cell_type": "code",
      "source": [
        "europe[\"germany\"]=\"berlin\"\n",
        "europe"
      ],
      "metadata": {
        "colab": {
          "base_uri": "https://localhost:8080/"
        },
        "id": "mwXKQuj7QuCU",
        "outputId": "725b9699-4eac-41fe-b227-62cfe227fc90"
      },
      "execution_count": 14,
      "outputs": [
        {
          "output_type": "execute_result",
          "data": {
            "text/plain": [
              "{'australia': 'vienna',\n",
              " 'france': 'paris',\n",
              " 'germany': 'berlin',\n",
              " 'iceland': 'reykjavik',\n",
              " 'italy': 'rome',\n",
              " 'norway': 'oslo',\n",
              " 'poland': 'warsaw',\n",
              " 'spain': 'madrid'}"
            ]
          },
          "metadata": {},
          "execution_count": 14
        }
      ]
    },
    {
      "cell_type": "markdown",
      "source": [
        "**Dictionary Manipulation - Deletion**"
      ],
      "metadata": {
        "id": "KqUls4PgRL5c"
      }
    },
    {
      "cell_type": "markdown",
      "source": [
        "◼ Just like updating you can also delete values to a dictionary.\n",
        "◼ To delete a key, value pair in a dictionary, you can use the del method.\n",
        "◼ Syntax: del(dictName[‘key’])"
      ],
      "metadata": {
        "id": "gm2Fl9AURJha"
      }
    },
    {
      "cell_type": "markdown",
      "source": [
        "1. Delete the Key Australia and add Austria with the Capital Vienna ?\n"
      ],
      "metadata": {
        "id": "_fucIZUdREce"
      }
    },
    {
      "cell_type": "code",
      "source": [
        "del(europe[\"australia\"])\n",
        "europe"
      ],
      "metadata": {
        "colab": {
          "base_uri": "https://localhost:8080/"
        },
        "id": "gesxfEK7Q9jP",
        "outputId": "a8beb4ed-b559-4e6e-e94f-2096ff5a410a"
      },
      "execution_count": 15,
      "outputs": [
        {
          "output_type": "execute_result",
          "data": {
            "text/plain": [
              "{'france': 'paris',\n",
              " 'germany': 'berlin',\n",
              " 'iceland': 'reykjavik',\n",
              " 'italy': 'rome',\n",
              " 'norway': 'oslo',\n",
              " 'poland': 'warsaw',\n",
              " 'spain': 'madrid'}"
            ]
          },
          "metadata": {},
          "execution_count": 15
        }
      ]
    },
    {
      "cell_type": "markdown",
      "source": [
        "**Nested Dictionary**"
      ],
      "metadata": {
        "id": "6oYTiBH5RjiJ"
      }
    },
    {
      "cell_type": "markdown",
      "source": [
        "◼ In Python, a nested dictionary is a dictionary inside a dictionary.\n",
        "◼ It's a collection of dictionaries into one single dictionary.\n",
        "◼ A Nested dictionary can be created by placing the comma-separated dictionaries enclosed within braces {}.\n",
        "Syntax: nested_dict = { 'dict1': {'key_A': 'value_A'},\n",
        "'dict2': {'key_B': 'value_B'}} "
      ],
      "metadata": {
        "id": "KD-oBwRXRrgq"
      }
    },
    {
      "cell_type": "code",
      "source": [
        "# Example: Creating a dictionary of people within a dictionary\n",
        "#creating an individual dictionary\n",
        "pep1={'name': 'John', 'age': '27', 'sex': 'Male'}\n",
        "pep2={'name': 'Marie', 'age': '22', 'sex': 'Female'}\n",
        "#creating a dictionary of people using pep1 &pep2\n",
        "people = {'pep1': {'name': 'John', 'age': '27', 'sex': 'Male'},\n",
        "'pep2': {'name': 'Marie', 'age': '22', 'sex': 'Female'}}\n",
        "#print people\n",
        "print(people)"
      ],
      "metadata": {
        "colab": {
          "base_uri": "https://localhost:8080/"
        },
        "id": "95-6Zz25Rec8",
        "outputId": "9c294f84-b1b8-4b4c-a601-33a54c2a4acc"
      },
      "execution_count": 19,
      "outputs": [
        {
          "output_type": "stream",
          "name": "stdout",
          "text": [
            "{'pep1': {'name': 'John', 'age': '27', 'sex': 'Male'}, 'pep2': {'name': 'Marie', 'age': '22', 'sex': 'Female'}}\n"
          ]
        }
      ]
    },
    {
      "cell_type": "code",
      "source": [
        "# Create a dictionary of dictionaries europe using the dictionaries of individual countries.\n",
        "# Use the following data for this task:\n",
        "spain={ 'capital':'madrid', 'population':46.77 }\n",
        "france= { 'capital':'paris', 'population':66.03 }\n",
        "germany= { 'capital':'berlin', 'population':80.62 }\n",
        "norway ={ 'capital':'oslo', 'population':5.084 }\n",
        "\n",
        "europe={'spain':spain, 'france':france, 'germany':germany, 'norway':norway}\n",
        "europe"
      ],
      "metadata": {
        "colab": {
          "base_uri": "https://localhost:8080/"
        },
        "id": "Qrm75_AqR5Uj",
        "outputId": "0954b19f-ddf2-432d-8da4-0bc39bd3be7d"
      },
      "execution_count": 21,
      "outputs": [
        {
          "output_type": "execute_result",
          "data": {
            "text/plain": [
              "{'france': {'capital': 'paris', 'population': 66.03},\n",
              " 'germany': {'capital': 'berlin', 'population': 80.62},\n",
              " 'norway': {'capital': 'oslo', 'population': 5.084},\n",
              " 'spain': {'capital': 'madrid', 'population': 46.77}}"
            ]
          },
          "metadata": {},
          "execution_count": 21
        }
      ]
    },
    {
      "cell_type": "markdown",
      "source": [
        "**Accessing a Nested Dictionary**"
      ],
      "metadata": {
        "id": "vyDeP1k7SiO7"
      }
    },
    {
      "cell_type": "markdown",
      "source": [
        "◼ To access nested dictionary elements, you can use the familiar square brackets along with the key to obtain its\n",
        "value.\n",
        "Syntax: dictionaryName[‘key’][‘key’]\n"
      ],
      "metadata": {
        "id": "NXL24VYoSnTN"
      }
    },
    {
      "cell_type": "code",
      "source": [
        "# Get John from the Nested dictionary\n",
        "#using a dictionary\n",
        "people = {'pep1': {'name': 'John', 'age': '27', 'sex': 'Male'},\n",
        "'pep2': {'name': 'Marie', 'age': '22', 'sex': 'Female'}}\n",
        "#print out name\n",
        "print(people['pep1']['name'])\n"
      ],
      "metadata": {
        "colab": {
          "base_uri": "https://localhost:8080/"
        },
        "id": "yt7Jc97cSnEp",
        "outputId": "065be3db-f7a2-4e64-9ff9-7d10629730cf"
      },
      "execution_count": 22,
      "outputs": [
        {
          "output_type": "stream",
          "name": "stdout",
          "text": [
            "John\n"
          ]
        }
      ]
    },
    {
      "cell_type": "markdown",
      "source": [
        "**Task:** Use your nested dictionary europe to fetch the population for Spain. "
      ],
      "metadata": {
        "id": "VQipDw9bSv78"
      }
    },
    {
      "cell_type": "code",
      "source": [
        "europe['spain']['population']"
      ],
      "metadata": {
        "colab": {
          "base_uri": "https://localhost:8080/"
        },
        "id": "cKd3PgG-SVPT",
        "outputId": "adeb9c8c-9d4c-4018-8b18-381e82ecd54f"
      },
      "execution_count": 23,
      "outputs": [
        {
          "output_type": "execute_result",
          "data": {
            "text/plain": [
              "46.77"
            ]
          },
          "metadata": {},
          "execution_count": 23
        }
      ]
    },
    {
      "cell_type": "markdown",
      "source": [
        "**Task**: Print out the capital of France."
      ],
      "metadata": {
        "id": "jlSi2FCTS9uP"
      }
    },
    {
      "cell_type": "code",
      "source": [
        "europe['france']['capital']"
      ],
      "metadata": {
        "colab": {
          "base_uri": "https://localhost:8080/",
          "height": 35
        },
        "id": "poBQC4y1S4V2",
        "outputId": "5a6b59cd-1d17-41ea-c9de-3a64d0403353"
      },
      "execution_count": 24,
      "outputs": [
        {
          "output_type": "execute_result",
          "data": {
            "application/vnd.google.colaboratory.intrinsic+json": {
              "type": "string"
            },
            "text/plain": [
              "'paris'"
            ]
          },
          "metadata": {},
          "execution_count": 24
        }
      ]
    },
    {
      "cell_type": "markdown",
      "source": [
        "Create a dictionary, named data, with the keys 'capital' and 'population'. Set them to\n",
        "'rome' and 59.83, respectively.\n",
        "Add a new key-value pair to europe; the key is 'italy' and the value is data, print the\n",
        "dictionary you just built."
      ],
      "metadata": {
        "id": "Bk96LryZTK73"
      }
    },
    {
      "cell_type": "code",
      "source": [
        "data={'capital':'rome', 'population':59.83}\n",
        "europe"
      ],
      "metadata": {
        "colab": {
          "base_uri": "https://localhost:8080/"
        },
        "id": "uktBq0fYTEeZ",
        "outputId": "433bc0df-f26b-46fc-dd21-11adde2f0af7"
      },
      "execution_count": 26,
      "outputs": [
        {
          "output_type": "execute_result",
          "data": {
            "text/plain": [
              "{'france': {'capital': 'paris', 'population': 66.03},\n",
              " 'germany': {'capital': 'berlin', 'population': 80.62},\n",
              " 'norway': {'capital': 'oslo', 'population': 5.084},\n",
              " 'spain': {'capital': 'madrid', 'population': 46.77}}"
            ]
          },
          "metadata": {},
          "execution_count": 26
        }
      ]
    },
    {
      "cell_type": "code",
      "source": [
        "europe['italy']=data\n",
        "europe"
      ],
      "metadata": {
        "colab": {
          "base_uri": "https://localhost:8080/"
        },
        "id": "8bmLOiydTWVj",
        "outputId": "9a81ee69-a617-4591-cf5f-676a88a11419"
      },
      "execution_count": 27,
      "outputs": [
        {
          "output_type": "execute_result",
          "data": {
            "text/plain": [
              "{'france': {'capital': 'paris', 'population': 66.03},\n",
              " 'germany': {'capital': 'berlin', 'population': 80.62},\n",
              " 'italy': {'capital': 'rome', 'population': 59.83},\n",
              " 'norway': {'capital': 'oslo', 'population': 5.084},\n",
              " 'spain': {'capital': 'madrid', 'population': 46.77}}"
            ]
          },
          "metadata": {},
          "execution_count": 27
        }
      ]
    },
    {
      "cell_type": "code",
      "source": [
        ""
      ],
      "metadata": {
        "id": "8F-znioRTf55"
      },
      "execution_count": null,
      "outputs": []
    }
  ]
}