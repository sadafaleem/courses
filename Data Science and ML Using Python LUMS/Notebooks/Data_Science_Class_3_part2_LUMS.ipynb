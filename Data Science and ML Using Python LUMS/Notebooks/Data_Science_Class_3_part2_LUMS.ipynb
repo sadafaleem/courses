{
  "nbformat": 4,
  "nbformat_minor": 0,
  "metadata": {
    "colab": {
      "name": "Data Science Class 3 part2 LUMS.ipynb",
      "provenance": [],
      "collapsed_sections": []
    },
    "kernelspec": {
      "name": "python3",
      "display_name": "Python 3"
    },
    "language_info": {
      "name": "python"
    }
  },
  "cells": [
    {
      "cell_type": "markdown",
      "source": [
        "\n",
        "Code from 3rd class on python after orientation by LUMS course - Data Science \n",
        "and Machine Learning Using Python"
      ],
      "metadata": {
        "id": "qExo895tu075"
      }
    },
    {
      "cell_type": "markdown",
      "source": [
        "### **IMPORTING MLB DATA FROM GITHUB**"
      ],
      "metadata": {
        "id": "I4h_R4NEu3-O"
      }
    },
    {
      "cell_type": "markdown",
      "source": [
        "We have data with 3 columns representing height (in inches), weight (in pounds) and age (in years). It’s stored in GitHub as a .CSV file.\n",
        "We will import this dataset using the read function from the Panda’s Library; We will create a 2d Numpy array using this CSV File"
      ],
      "metadata": {
        "id": "CO-str0tx6Mh"
      }
    },
    {
      "cell_type": "code",
      "execution_count": 9,
      "metadata": {
        "colab": {
          "base_uri": "https://localhost:8080/"
        },
        "id": "CPXid1R9uh7r",
        "outputId": "6b138937-822b-4ad8-ed97-cc7bd5aefe36"
      },
      "outputs": [
        {
          "output_type": "stream",
          "name": "stdout",
          "text": [
            "      Height  Weight    Age\n",
            "0         74     180  22.99\n",
            "1         74     215  34.69\n",
            "2         72     210  30.78\n",
            "3         72     210  35.43\n",
            "4         73     188  35.71\n",
            "...      ...     ...    ...\n",
            "1010      73     190  25.08\n",
            "1011      74     180  25.73\n",
            "1012      75     205  25.19\n",
            "1013      75     190  31.01\n",
            "1014      73     195  27.92\n",
            "\n",
            "[1015 rows x 3 columns]\n",
            "<class 'pandas.core.frame.DataFrame'>\n"
          ]
        }
      ],
      "source": [
        "#importing libraries\n",
        "import pandas as pd\n",
        "import numpy as np\n",
        "\n",
        "#importing MLB data using the read function from Panda’s\n",
        "baseball = pd.read_csv(\"https://raw.githubusercontent.com/Masadn/PythonCourse/master/dataset/mlbData.csv\")\n",
        "\n",
        "print(baseball)\n",
        "print(type(baseball))"
      ]
    },
    {
      "cell_type": "code",
      "source": [
        "#creating a NumPy array\n",
        "np_baseball = np.array(baseball)"
      ],
      "metadata": {
        "id": "zSCANZtkyfuH"
      },
      "execution_count": 10,
      "outputs": []
    },
    {
      "cell_type": "code",
      "source": [
        "print(np_baseball.shape)"
      ],
      "metadata": {
        "colab": {
          "base_uri": "https://localhost:8080/"
        },
        "id": "hqigD6styBlw",
        "outputId": "56c718a0-dfd3-4e91-ecfe-c9dbaf43b531"
      },
      "execution_count": 11,
      "outputs": [
        {
          "output_type": "stream",
          "name": "stdout",
          "text": [
            "(1015, 3)\n"
          ]
        }
      ]
    },
    {
      "cell_type": "markdown",
      "source": [
        "**Task**"
      ],
      "metadata": {
        "id": "L7vTDvJJyogL"
      }
    },
    {
      "cell_type": "markdown",
      "source": [
        "You want to convert the units of height and weight to metric (meters and kilograms respectively). As a first step, create a numpy array with three\n",
        "values: (0.0254, 0.453592 and 1). Name this array np_conversion.\n",
        "Multiply np_baseball with np_conversion and print out the result."
      ],
      "metadata": {
        "id": "vpuUvy9Azm1c"
      }
    },
    {
      "cell_type": "code",
      "source": [
        "conversion=[0.0254, 0.453592, 1]\n",
        "np_conversion=np.array(conversion)\n",
        "print(type(np_conversion))"
      ],
      "metadata": {
        "colab": {
          "base_uri": "https://localhost:8080/"
        },
        "id": "t5OcATnayLo4",
        "outputId": "1213a640-9035-4c6f-c0eb-68d49b6d3811"
      },
      "execution_count": 7,
      "outputs": [
        {
          "output_type": "stream",
          "name": "stdout",
          "text": [
            "<class 'numpy.ndarray'>\n"
          ]
        }
      ]
    },
    {
      "cell_type": "code",
      "source": [
        "np_result=np_baseball*np_conversion\n",
        "print(np_result)"
      ],
      "metadata": {
        "colab": {
          "base_uri": "https://localhost:8080/"
        },
        "id": "UGTKUy5Cy6fE",
        "outputId": "de1707f8-b75b-4f86-e07f-c30f372c1466"
      },
      "execution_count": 12,
      "outputs": [
        {
          "output_type": "stream",
          "name": "stdout",
          "text": [
            "[[ 1.8796  81.64656 22.99   ]\n",
            " [ 1.8796  97.52228 34.69   ]\n",
            " [ 1.8288  95.25432 30.78   ]\n",
            " ...\n",
            " [ 1.905   92.98636 25.19   ]\n",
            " [ 1.905   86.18248 31.01   ]\n",
            " [ 1.8542  88.45044 27.92   ]]\n"
          ]
        }
      ]
    },
    {
      "cell_type": "markdown",
      "source": [
        "**STATISTICS – AVERAGE VS MEDIAN**"
      ],
      "metadata": {
        "id": "3Vn7Aijw0Vw7"
      }
    },
    {
      "cell_type": "code",
      "source": [
        "x = [1, 4, 8, 10, 12]\n",
        "x1 = np.array(x)\n",
        "np.mean(x1)"
      ],
      "metadata": {
        "colab": {
          "base_uri": "https://localhost:8080/"
        },
        "id": "J7p4j_f4zNIn",
        "outputId": "4674e7ca-04f1-490a-8d81-3e0e90d4062f"
      },
      "execution_count": 13,
      "outputs": [
        {
          "output_type": "execute_result",
          "data": {
            "text/plain": [
              "7.0"
            ]
          },
          "metadata": {},
          "execution_count": 13
        }
      ]
    },
    {
      "cell_type": "code",
      "source": [
        "np.median(x1)"
      ],
      "metadata": {
        "colab": {
          "base_uri": "https://localhost:8080/"
        },
        "id": "IpVVcxMS0w_y",
        "outputId": "bfd9c1d4-ca9e-400b-a198-4fe26f8b588d"
      },
      "execution_count": 15,
      "outputs": [
        {
          "output_type": "execute_result",
          "data": {
            "text/plain": [
              "8.0"
            ]
          },
          "metadata": {},
          "execution_count": 15
        }
      ]
    },
    {
      "cell_type": "code",
      "source": [
        "np.sum(x1)"
      ],
      "metadata": {
        "colab": {
          "base_uri": "https://localhost:8080/"
        },
        "id": "V3O3VUo80yhC",
        "outputId": "817636ee-fa71-4faa-f61f-693c4832ca1e"
      },
      "execution_count": 16,
      "outputs": [
        {
          "output_type": "execute_result",
          "data": {
            "text/plain": [
              "35"
            ]
          },
          "metadata": {},
          "execution_count": 16
        }
      ]
    },
    {
      "cell_type": "code",
      "source": [
        "np.min(x1)"
      ],
      "metadata": {
        "colab": {
          "base_uri": "https://localhost:8080/"
        },
        "id": "IYV0wPGX1DCY",
        "outputId": "cdca4040-e444-4eec-8d9b-1ddd474a200e"
      },
      "execution_count": 20,
      "outputs": [
        {
          "output_type": "execute_result",
          "data": {
            "text/plain": [
              "1"
            ]
          },
          "metadata": {},
          "execution_count": 20
        }
      ]
    },
    {
      "cell_type": "code",
      "source": [
        "np.max(x1)"
      ],
      "metadata": {
        "colab": {
          "base_uri": "https://localhost:8080/"
        },
        "id": "R28qdiiF1JS2",
        "outputId": "e0812280-99c5-4d59-986d-9175e2acde72"
      },
      "execution_count": 21,
      "outputs": [
        {
          "output_type": "execute_result",
          "data": {
            "text/plain": [
              "12"
            ]
          },
          "metadata": {},
          "execution_count": 21
        }
      ]
    },
    {
      "cell_type": "markdown",
      "source": [
        "**MLB DATA SUMMARY STATISTICS - TASK BACKGROUND**"
      ],
      "metadata": {
        "id": "N8GPkvIz1kM2"
      }
    },
    {
      "cell_type": "markdown",
      "source": [
        "The baseball data is available as a 2D numpy array with 3 columns (height, weight,\n",
        "age) and 1015 rows.\n",
        "The name of this numpy array is np_baseball. After restructuring the data, however,\n",
        "you notice that some height values are abnormally high.\n",
        "Let’s try using some summary statistics on the MLB Dataset."
      ],
      "metadata": {
        "id": "es-1TJ0R1nWL"
      }
    },
    {
      "cell_type": "markdown",
      "source": [
        "Print out the mean and median of players height from np_baseball_conversion\n"
      ],
      "metadata": {
        "id": "53lmOk2q1v_Y"
      }
    },
    {
      "cell_type": "code",
      "source": [
        "print(np_result[:,0])"
      ],
      "metadata": {
        "colab": {
          "base_uri": "https://localhost:8080/"
        },
        "id": "CsU-61r71gOD",
        "outputId": "e532d8ef-9344-4506-bd1b-1dec5af59a75"
      },
      "execution_count": 25,
      "outputs": [
        {
          "output_type": "stream",
          "name": "stdout",
          "text": [
            "[1.8796 1.8796 1.8288 ... 1.905  1.905  1.8542]\n"
          ]
        }
      ]
    },
    {
      "cell_type": "code",
      "source": [
        "# print mean height\n",
        "np_height=np_result[:,0]\n",
        "print(np.mean(np_height))"
      ],
      "metadata": {
        "colab": {
          "base_uri": "https://localhost:8080/"
        },
        "id": "YYxWBBdN15LG",
        "outputId": "fa3afbe2-f3ec-4664-aa88-d235e51d341e"
      },
      "execution_count": 30,
      "outputs": [
        {
          "output_type": "stream",
          "name": "stdout",
          "text": [
            "1.8717172413793102\n"
          ]
        }
      ]
    },
    {
      "cell_type": "code",
      "source": [
        "# print median height\n",
        "print(np.median(np_height))"
      ],
      "metadata": {
        "colab": {
          "base_uri": "https://localhost:8080/"
        },
        "id": "u5hU8jSF2B-t",
        "outputId": "711a7c23-afe9-44ca-f1e0-929af8e80fc5"
      },
      "execution_count": 31,
      "outputs": [
        {
          "output_type": "stream",
          "name": "stdout",
          "text": [
            "1.8796\n"
          ]
        }
      ]
    },
    {
      "cell_type": "markdown",
      "source": [
        "**STATISTICS – STANDARD DEVIATION**"
      ],
      "metadata": {
        "id": "PaaFgvQF27JE"
      }
    },
    {
      "cell_type": "code",
      "source": [
        "x = [1, 4, 8, 10, 12]\n",
        "np.std(x)"
      ],
      "metadata": {
        "colab": {
          "base_uri": "https://localhost:8080/"
        },
        "id": "bKAtTceF2c5Y",
        "outputId": "631ebd08-62a6-4855-bbec-51e32bac39fc"
      },
      "execution_count": 32,
      "outputs": [
        {
          "output_type": "execute_result",
          "data": {
            "text/plain": [
              "4.0"
            ]
          },
          "metadata": {},
          "execution_count": 32
        }
      ]
    },
    {
      "cell_type": "markdown",
      "source": [
        "**Task**\n",
        "Use np.std() on the first column (height) of np_baseball_conversion to calculate standard deviation.\n",
        "Print out standard deviation using print()"
      ],
      "metadata": {
        "id": "s6hS3kcF2_Bq"
      }
    },
    {
      "cell_type": "code",
      "source": [
        "print(np.std(np_result[:,0]))"
      ],
      "metadata": {
        "colab": {
          "base_uri": "https://localhost:8080/"
        },
        "id": "BO4iar6w3LvT",
        "outputId": "d4d12640-6a0b-44bb-c4fc-3040cc89dae7"
      },
      "execution_count": 33,
      "outputs": [
        {
          "output_type": "stream",
          "name": "stdout",
          "text": [
            "0.05874491377858227\n"
          ]
        }
      ]
    },
    {
      "cell_type": "markdown",
      "source": [
        "**Task**"
      ],
      "metadata": {
        "id": "9RR3xstF3xjn"
      }
    },
    {
      "cell_type": "markdown",
      "source": [
        "Use the code below to create heights and positions from FIFA dataset from github.\n",
        "import pandas as pd\n",
        "fifa = pd.read_csv(\"https://raw.githubusercontent.com/Masadn/PythonCourse/master/dataset/fifapos.csv\")\n",
        "◼ Convert heights and positions, which are regular lists, to numpy arrays.\n",
        "◼ Call them np_heights and np_positions.\n",
        "◼ Print out both np_heights and np_positions."
      ],
      "metadata": {
        "id": "sAONUQx_3zZF"
      }
    },
    {
      "cell_type": "code",
      "source": [
        "import pandas as pd\n",
        "pd_fifa=pd.read_csv(\"https://raw.githubusercontent.com/Masadn/PythonCourse/master/dataset/fifapos.csv\")\n",
        "print(pd_fifa.head())"
      ],
      "metadata": {
        "colab": {
          "base_uri": "https://localhost:8080/"
        },
        "id": "G_phT_9J3X40",
        "outputId": "97bc6c6c-c6fd-48be-c71d-f693d369009b"
      },
      "execution_count": 34,
      "outputs": [
        {
          "output_type": "stream",
          "name": "stdout",
          "text": [
            "   position   height\n",
            "0        GK      191\n",
            "1         M      184\n",
            "2         A      185\n",
            "3         D      180\n",
            "4         M      181\n"
          ]
        }
      ]
    },
    {
      "cell_type": "code",
      "source": [
        "pd_fifa.columns"
      ],
      "metadata": {
        "colab": {
          "base_uri": "https://localhost:8080/"
        },
        "id": "u-hbB-ie4Wbf",
        "outputId": "30c6bfe5-759c-4a3f-aed6-d05b17df96a4"
      },
      "execution_count": 41,
      "outputs": [
        {
          "output_type": "execute_result",
          "data": {
            "text/plain": [
              "Index([' position', ' height'], dtype='object')"
            ]
          },
          "metadata": {},
          "execution_count": 41
        }
      ]
    },
    {
      "cell_type": "code",
      "source": [
        "np_fifa=np.array(pd_fifa)\n",
        "print(np_fifa)"
      ],
      "metadata": {
        "colab": {
          "base_uri": "https://localhost:8080/"
        },
        "id": "MW5ttSJS4zV0",
        "outputId": "92e649d5-aba7-41ea-84ef-099bb707b100"
      },
      "execution_count": 57,
      "outputs": [
        {
          "output_type": "stream",
          "name": "stdout",
          "text": [
            "[[' GK' 191]\n",
            " [' M' 184]\n",
            " [' A' 185]\n",
            " ...\n",
            " [' D' 183]\n",
            " [' D' 179]\n",
            " [' M' 179]]\n"
          ]
        }
      ]
    },
    {
      "cell_type": "code",
      "source": [
        "np_fifa[:,1]"
      ],
      "metadata": {
        "colab": {
          "base_uri": "https://localhost:8080/"
        },
        "id": "TXrAluGJ5pa8",
        "outputId": "77ff9094-d16e-4c00-a5c0-25a2baffeaaa"
      },
      "execution_count": 60,
      "outputs": [
        {
          "output_type": "execute_result",
          "data": {
            "text/plain": [
              "array([191, 184, 185, ..., 183, 179, 179], dtype=object)"
            ]
          },
          "metadata": {},
          "execution_count": 60
        }
      ]
    },
    {
      "cell_type": "code",
      "source": [
        "np_heights=np_fifa[:,1]\n",
        "print(np_heights)\n",
        "print(type(np_heights))"
      ],
      "metadata": {
        "colab": {
          "base_uri": "https://localhost:8080/"
        },
        "id": "2jDThCYU52pZ",
        "outputId": "2947856c-6321-41f1-d4b6-095c89d94d11"
      },
      "execution_count": 62,
      "outputs": [
        {
          "output_type": "stream",
          "name": "stdout",
          "text": [
            "[191 184 185 ... 183 179 179]\n",
            "<class 'numpy.ndarray'>\n"
          ]
        }
      ]
    },
    {
      "cell_type": "code",
      "source": [
        "np_fifa[:,0]"
      ],
      "metadata": {
        "colab": {
          "base_uri": "https://localhost:8080/"
        },
        "id": "CO_6Y3SL6HBJ",
        "outputId": "73c59893-9918-4772-c2c3-a98a63dcef5b"
      },
      "execution_count": 63,
      "outputs": [
        {
          "output_type": "execute_result",
          "data": {
            "text/plain": [
              "array([' GK', ' M', ' A', ..., ' D', ' D', ' M'], dtype=object)"
            ]
          },
          "metadata": {},
          "execution_count": 63
        }
      ]
    },
    {
      "cell_type": "code",
      "source": [
        "np_positions=np_fifa[:,0]\n",
        "print(np_positions)\n",
        "print(np_positions.shape)"
      ],
      "metadata": {
        "colab": {
          "base_uri": "https://localhost:8080/"
        },
        "id": "HZLYOLez4IHX",
        "outputId": "2a3306fc-d11a-4e68-abff-f8925617a684"
      },
      "execution_count": 65,
      "outputs": [
        {
          "output_type": "stream",
          "name": "stdout",
          "text": [
            "[' GK' ' M' ' A' ... ' D' ' D' ' M']\n",
            "(8847,)\n"
          ]
        }
      ]
    },
    {
      "cell_type": "code",
      "source": [
        "gk_height=np_fifa[np_positions==' GK']\n",
        "print(gk_height)"
      ],
      "metadata": {
        "colab": {
          "base_uri": "https://localhost:8080/"
        },
        "id": "YoJxcNwX5Uqf",
        "outputId": "3031b5bd-67de-4b5d-ba4e-ce22aada7711"
      },
      "execution_count": 71,
      "outputs": [
        {
          "output_type": "stream",
          "name": "stdout",
          "text": [
            "[[' GK' 191]\n",
            " [' GK' 193]\n",
            " [' GK' 190]\n",
            " ...\n",
            " [' GK' 182]\n",
            " [' GK' 194]\n",
            " [' GK' 196]]\n"
          ]
        }
      ]
    },
    {
      "cell_type": "code",
      "source": [
        "gk_height1=gk_height[:,1]\n",
        "gk_height1"
      ],
      "metadata": {
        "colab": {
          "base_uri": "https://localhost:8080/"
        },
        "id": "p_tR3L_q7134",
        "outputId": "2c61626a-5225-42ec-de82-07b7d0c87960"
      },
      "execution_count": 72,
      "outputs": [
        {
          "output_type": "execute_result",
          "data": {
            "text/plain": [
              "array([191, 193, 190, 185, 188, 187, 189, 196, 190, 189, 188, 189, 188,\n",
              "       188, 190, 193, 181, 191, 193, 190, 183, 183, 193, 193, 196, 184,\n",
              "       190, 186, 195, 191, 187, 185, 186, 185, 186, 190, 185, 185, 187,\n",
              "       188, 188, 186, 187, 193, 183, 185, 190, 186, 182, 191, 194, 191,\n",
              "       194, 188, 185, 189, 187, 188, 184, 176, 187, 186, 191, 188, 191,\n",
              "       192, 190, 188, 189, 184, 180, 191, 197, 189, 185, 191, 190, 190,\n",
              "       185, 186, 186, 189, 193, 182, 189, 188, 190, 191, 183, 189, 189,\n",
              "       190, 188, 184, 194, 188, 194, 193, 186, 186, 188, 187, 191, 192,\n",
              "       196, 187, 187, 187, 192, 184, 189, 184, 185, 187, 202, 190, 185,\n",
              "       182, 188, 188, 195, 187, 183, 197, 188, 190, 193, 191, 187, 184,\n",
              "       183, 185, 193, 180, 191, 185, 188, 188, 186, 188, 188, 184, 186,\n",
              "       189, 193, 194, 183, 178, 184, 190, 183, 184, 188, 194, 190, 183,\n",
              "       194, 188, 180, 173, 187, 183, 184, 193, 188, 183, 190, 191, 199,\n",
              "       186, 198, 188, 189, 189, 185, 193, 191, 188, 185, 185, 188, 190,\n",
              "       180, 188, 184, 187, 183, 181, 179, 185, 182, 188, 188, 184, 196,\n",
              "       192, 187, 187, 193, 190, 189, 194, 188, 185, 193, 185, 193, 187,\n",
              "       196, 194, 198, 196, 188, 188, 195, 186, 190, 191, 188, 187, 188,\n",
              "       192, 199, 185, 190, 185, 188, 196, 188, 196, 185, 185, 188, 188,\n",
              "       179, 187, 190, 185, 198, 193, 193, 188, 188, 180, 183, 185, 185,\n",
              "       186, 186, 180, 184, 188, 185, 186, 183, 188, 193, 185, 181, 186,\n",
              "       189, 193, 188, 188, 193, 198, 182, 185, 181, 186, 188, 198, 190,\n",
              "       183, 184, 188, 191, 177, 193, 189, 187, 187, 193, 179, 184, 186,\n",
              "       190, 188, 191, 189, 197, 190, 180, 196, 193, 186, 189, 187, 185,\n",
              "       187, 178, 184, 187, 178, 196, 189, 188, 182, 183, 188, 191, 197,\n",
              "       187, 191, 193, 191, 185, 184, 193, 184, 196, 194, 193, 189, 186,\n",
              "       187, 193, 188, 185, 188, 183, 188, 189, 197, 183, 193, 190, 180,\n",
              "       185, 181, 179, 194, 187, 185, 186, 185, 191, 193, 191, 187, 193,\n",
              "       185, 191, 190, 188, 192, 180, 186, 183, 188, 191, 186, 186, 186,\n",
              "       186, 192, 190, 180, 183, 185, 184, 188, 184, 193, 190, 180, 187,\n",
              "       187, 185, 180, 188, 188, 195, 182, 191, 182, 195, 186, 192, 191,\n",
              "       188, 181, 182, 198, 185, 189, 198, 185, 192, 188, 185, 193, 184,\n",
              "       193, 185, 196, 188, 188, 185, 185, 185, 188, 196, 190, 189, 180,\n",
              "       191, 183, 201, 190, 178, 182, 190, 196, 188, 190, 192, 185, 192,\n",
              "       193, 193, 191, 180, 188, 183, 188, 183, 194, 185, 187, 184, 184,\n",
              "       196, 188, 186, 182, 195, 185, 183, 183, 189, 185, 183, 183, 193,\n",
              "       188, 187, 185, 185, 179, 183, 187, 183, 185, 189, 189, 180, 184,\n",
              "       185, 199, 192, 184, 183, 182, 187, 191, 190, 192, 190, 190, 186,\n",
              "       186, 186, 190, 181, 202, 195, 185, 191, 183, 184, 184, 189, 194,\n",
              "       188, 185, 194, 186, 188, 193, 193, 194, 185, 193, 185, 191, 197,\n",
              "       186, 185, 185, 185, 187, 183, 188, 185, 188, 190, 187, 191, 191,\n",
              "       192, 184, 194, 181, 189, 186, 190, 187, 187, 194, 184, 184, 193,\n",
              "       186, 189, 193, 188, 189, 193, 192, 190, 190, 188, 190, 191, 185,\n",
              "       184, 197, 188, 183, 191, 184, 194, 193, 187, 185, 189, 197, 194,\n",
              "       190, 195, 191, 187, 190, 185, 208, 192, 192, 185, 188, 195, 188,\n",
              "       194, 184, 185, 191, 183, 193, 191, 185, 185, 192, 186, 196, 181,\n",
              "       193, 188, 190, 188, 189, 186, 185, 188, 193, 195, 196, 192, 180,\n",
              "       187, 199, 197, 189, 183, 181, 191, 188, 185, 202, 186, 189, 190,\n",
              "       188, 188, 193, 187, 187, 193, 192, 186, 186, 196, 195, 189, 190,\n",
              "       186, 193, 188, 183, 183, 188, 192, 188, 192, 191, 191, 183, 193,\n",
              "       193, 192, 189, 190, 198, 193, 182, 185, 185, 190, 192, 185, 187,\n",
              "       190, 187, 184, 195, 194, 197, 187, 186, 189, 173, 190, 188, 203,\n",
              "       185, 194, 186, 175, 196, 180, 184, 192, 191, 185, 191, 196, 188,\n",
              "       187, 196, 191, 188, 182, 193, 185, 183, 192, 197, 181, 180, 191,\n",
              "       187, 185, 187, 187, 190, 191, 194, 190, 191, 191, 191, 181, 188,\n",
              "       196, 183, 193, 182, 186, 190, 189, 185, 180, 188, 193, 180, 185,\n",
              "       197, 178, 183, 191, 191, 187, 184, 193, 191, 188, 180, 177, 187,\n",
              "       178, 187, 180, 189, 189, 186, 198, 182, 187, 187, 185, 189, 195,\n",
              "       182, 198, 182, 190, 192, 180, 186, 184, 185, 190, 197, 190, 185,\n",
              "       193, 187, 197, 185, 189, 193, 185, 178, 188, 185, 188, 185, 185,\n",
              "       190, 179, 187, 193, 188, 181, 181, 183, 196, 187, 188, 185, 191,\n",
              "       180, 191, 185, 196, 188, 194, 191, 196, 193, 194, 185, 186, 185,\n",
              "       189, 194, 193, 180, 192, 187, 197, 189, 185, 185, 183, 193, 193,\n",
              "       183, 189, 186, 189, 187, 199, 184, 180, 199, 184, 184, 187, 197,\n",
              "       188, 187, 188, 188, 191, 188, 195, 185, 191, 186, 190, 187, 185,\n",
              "       188, 188, 196, 190, 185, 189, 195, 184, 198, 185, 185, 183, 185,\n",
              "       186, 193, 190, 191, 187, 174, 184, 190, 188, 190, 193, 186, 196,\n",
              "       183, 186, 187, 184, 186, 184, 188, 177, 196, 193, 193, 191, 188,\n",
              "       188, 188, 196, 188, 196, 194, 191, 191, 194, 180, 193, 185, 187,\n",
              "       193, 185, 182, 189, 188, 193, 193, 190, 185, 193, 183, 180, 191,\n",
              "       181, 190, 183, 193, 191, 188, 193, 185, 183, 185, 188, 186, 182,\n",
              "       185, 188, 188, 191, 188, 185, 194, 189, 191, 191, 192, 187, 188,\n",
              "       192, 191, 191, 184, 182, 194, 196], dtype=object)"
            ]
          },
          "metadata": {},
          "execution_count": 72
        }
      ]
    },
    {
      "cell_type": "code",
      "source": [
        "gk_height1.shape"
      ],
      "metadata": {
        "colab": {
          "base_uri": "https://localhost:8080/"
        },
        "id": "lL5_L5yc8bf9",
        "outputId": "697f52e8-f6d8-4975-cf83-a0f7e32bd1f0"
      },
      "execution_count": 73,
      "outputs": [
        {
          "output_type": "execute_result",
          "data": {
            "text/plain": [
              "(930,)"
            ]
          },
          "metadata": {},
          "execution_count": 73
        }
      ]
    },
    {
      "cell_type": "markdown",
      "source": [
        "**Task**"
      ],
      "metadata": {
        "id": "-gDuhitQ8r2w"
      }
    },
    {
      "cell_type": "code",
      "source": [
        "attack_heights=np_fifa[np_positions==' A']\n",
        "print(attack_heights)"
      ],
      "metadata": {
        "colab": {
          "base_uri": "https://localhost:8080/"
        },
        "id": "WVuGgZGL8n2m",
        "outputId": "9e1c7777-ba85-4854-ab0c-5fd953fe5b36"
      },
      "execution_count": 76,
      "outputs": [
        {
          "output_type": "stream",
          "name": "stdout",
          "text": [
            "[[' A' 185]\n",
            " [' A' 186]\n",
            " [' A' 187]\n",
            " ...\n",
            " [' A' 175]\n",
            " [' A' 189]\n",
            " [' A' 175]]\n"
          ]
        }
      ]
    },
    {
      "cell_type": "code",
      "source": [
        ""
      ],
      "metadata": {
        "id": "U-9f-xIQ806j"
      },
      "execution_count": null,
      "outputs": []
    }
  ]
}