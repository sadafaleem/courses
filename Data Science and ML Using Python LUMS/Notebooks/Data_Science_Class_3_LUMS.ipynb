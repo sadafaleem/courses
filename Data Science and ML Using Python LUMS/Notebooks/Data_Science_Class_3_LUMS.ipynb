{
  "nbformat": 4,
  "nbformat_minor": 0,
  "metadata": {
    "colab": {
      "name": "Data Science Class 3 LUMS.ipynb",
      "provenance": [],
      "collapsed_sections": []
    },
    "kernelspec": {
      "name": "python3",
      "display_name": "Python 3"
    },
    "language_info": {
      "name": "python"
    }
  },
  "cells": [
    {
      "cell_type": "markdown",
      "source": [
        "\n",
        "Code from 3rd class on python after orientation by LUMS course - Data Science \n",
        "and Machine Learning Using Python"
      ],
      "metadata": {
        "id": "SZOiGA3CjmrF"
      }
    },
    {
      "cell_type": "markdown",
      "source": [
        "**2D Numpy Array**"
      ],
      "metadata": {
        "id": "NZs-VWsiX1XK"
      }
    },
    {
      "cell_type": "markdown",
      "source": [
        "\n",
        "*   A two dimensional arrayis an array within an array\n",
        "*   position of data element is refereed bytwo indices instead of one\n",
        "*   It represents a table with rows and columns of data"
      ],
      "metadata": {
        "id": "PQsqEI3wX8eQ"
      }
    },
    {
      "cell_type": "markdown",
      "source": [
        "\n",
        "*   A numpy array stores one type of data\n",
        "*   It can be usd to perform fast mathematical operations\n",
        "\n"
      ],
      "metadata": {
        "id": "xtuV4PT2YcZz"
      }
    },
    {
      "cell_type": "markdown",
      "source": [
        "#### 2D Numpy Array Example"
      ],
      "metadata": {
        "id": "hYSOCGXlZMMg"
      }
    },
    {
      "cell_type": "code",
      "execution_count": 7,
      "metadata": {
        "colab": {
          "base_uri": "https://localhost:8080/"
        },
        "id": "etzoAOSDjW67",
        "outputId": "d36411db-146e-4f16-c1e8-b0b8127d0a54"
      },
      "outputs": [
        {
          "output_type": "stream",
          "name": "stdout",
          "text": [
            "[[180, 78.4], [215, 102.7], [210, 98.5], [188, 75.2]]\n"
          ]
        }
      ],
      "source": [
        "baseball=[[180, 78.4], [215, 102.7],[210,98.5],[188,75.2]]\n",
        "print(baseball)"
      ]
    },
    {
      "cell_type": "code",
      "source": [
        "# import numpy\n",
        "import numpy as np\n",
        "\n",
        "#create 2D numpy array from baseball \n",
        "np_baseball=np.array(baseball)\n",
        "\n",
        "#print shape of np_baseball\n",
        "print(np_baseball.shape)"
      ],
      "metadata": {
        "colab": {
          "base_uri": "https://localhost:8080/"
        },
        "id": "Wb7RQqPDZeuU",
        "outputId": "9fdb5a93-ea62-43c7-a373-a055ea91d446"
      },
      "execution_count": 8,
      "outputs": [
        {
          "output_type": "stream",
          "name": "stdout",
          "text": [
            "(4, 2)\n"
          ]
        }
      ]
    },
    {
      "cell_type": "code",
      "source": [
        "# print type of np_baseball\n",
        "type(np_baseball)"
      ],
      "metadata": {
        "colab": {
          "base_uri": "https://localhost:8080/"
        },
        "id": "GbOcCxskZ0YQ",
        "outputId": "2bcdde29-512a-41aa-d54d-cc0e39c24388"
      },
      "execution_count": 9,
      "outputs": [
        {
          "output_type": "execute_result",
          "data": {
            "text/plain": [
              "numpy.ndarray"
            ]
          },
          "metadata": {},
          "execution_count": 9
        }
      ]
    },
    {
      "cell_type": "code",
      "source": [
        "len(np_baseball)"
      ],
      "metadata": {
        "colab": {
          "base_uri": "https://localhost:8080/"
        },
        "id": "gMfwJHhEZ9fo",
        "outputId": "6be2bcdc-d181-48a4-94fd-a9e94edee2ce"
      },
      "execution_count": 10,
      "outputs": [
        {
          "output_type": "execute_result",
          "data": {
            "text/plain": [
              "4"
            ]
          },
          "metadata": {},
          "execution_count": 10
        }
      ]
    },
    {
      "cell_type": "markdown",
      "source": [
        "**Baseball Data in 2D Format**"
      ],
      "metadata": {
        "id": "fafP_jSabNnI"
      }
    },
    {
      "cell_type": "markdown",
      "source": [
        "\n",
        "◼ Let’s restructure the MLB data in a 2D numpy array so it can make more sense.\n",
        "◼ This array should have 1015 rows, corresponding to the 1015 baseball players\n",
        "you have information on, and 2 columns (for height and weight).\n",
        "◼ In this list of lists, each sublist represents the height and weight of a single\n",
        "baseball player."
      ],
      "metadata": {
        "id": "ypQGSCyQbSe0"
      }
    },
    {
      "cell_type": "code",
      "source": [
        "baseball =[[74, 180], [74, 215], [72, 210], [72, 210], [73, 188], [69, 176], [69, 209], [71, 200], [76, 231], [71, 180], [73, 188], [73, 180], [74, 185], [74, 160], [69, 180], [70, 185], [73, 189], [75, 185], [78, 219], [79, 230], [76, 205], [74, 230],\n",
        "[76, 195], [72, 180], [71, 192], [75, 225], [77, 203], [74, 195], [73, 182], [74, 188], [78, 200], [73, 180], [75, 200], [73, 200], [75, 245], [75, 240], [74, 215], [69, 185], [71, 175], [74, 199], [73, 200], [73, 215], [76, 200], [74, 205], [74, 206],\n",
        "[70, 186], [72, 188], [77, 220], [74, 210], [70, 195], [73, 200], [75, 200], [76, 212], [76, 224], [78, 210], [74, 205], [74, 220], [76, 195], [77, 200], [81, 260], [78, 228], [75, 270], [77, 200], [75, 210], [76, 190], [74, 220], [72, 180], [72, 205],\n",
        "[75, 210], [73, 220], [73, 211], [73, 200], [70, 180], [70, 190], [70, 170], [76, 230], [68, 155], [71, 185], [72, 185], [75, 200], [75, 225], [75, 225], [75, 220], [68, 160], [74, 205], [78, 235], [71, 250], [73, 210], [76, 190], [74, 160], [74, 200],\n",
        "[79, 205], [75, 222], [73, 195], [76, 205], [74, 220], [74, 220], [73, 170], [72, 185], [74, 195], [73, 220], [74, 230], [72, 180], [73, 220], [69, 180], [72, 180], [73, 170], [75, 210], [75, 215], [73, 200], [72, 213], [72, 180], [76, 192], [74, 235],\n",
        "[72, 185], [77, 235], [74, 210], [77, 222], [75, 210], [76, 230], [80, 220], [74, 180], [74, 190], [75, 200], [78, 210], [73, 194], [73, 180], [74, 190], [75, 240], [76, 200], [71, 198], [73, 200], [74, 195], [76, 210], [76, 220], [74, 190], [73, 210],\n",
        "[74, 225], [70, 180], [72, 185], [73, 170], [73, 185], [73, 185], [73, 180], [71, 178], [74, 175], [74, 200], [72, 204], [74, 211], [71, 190], [74, 210], [73, 190], [75, 190], [75, 185], [79, 290], [73, 175], [75, 185], [76, 200], [74, 220], [76, 170],\n",
        "[78, 220], [74, 190], [76, 220], [72, 205], [74, 200], [76, 250], [74, 225], [75, 215], [78, 210], [75, 215], [72, 195], [74, 200], [72, 194], [74, 220], [70, 180], [71, 180], [70, 170], [75, 195], [71, 180], [71, 170], [73, 206], [72, 205], [71, 200],\n",
        "[73, 225], [72, 201], [75, 225], [74, 233], [74, 180], [75, 225], [73, 180], [77, 220], [73, 180], [76, 237], [75, 215], [74, 190], [76, 235], [75, 190], [73, 180], [71, 165], [76, 195], [75, 200], [72, 190], [71, 190], [77, 185], [73, 185], [74, 205],\n",
        "[71, 190], [72, 205], [74, 206], [75, 220], [73, 208], [72, 170], [75, 195], [75, 210], [74, 190], [72, 211], [74, 230], [71, 170], [70, 185], [74, 185], [77, 241], [77, 225], [75, 210], [75, 175], [78, 230], [75, 200], [76, 215], [73, 198], [75, 226],\n",
        "[75, 278], [79, 215], [77, 230], [76, 240], [71, 184], [75, 219], [74, 170], [69, 218], [71, 190], [76, 225], [72, 220], [72, 176], [70, 190], [72, 197], [73, 204], [71, 167], [72, 180], [71, 195], [73, 220], [72, 215], [73, 185], [74, 190], [74, 205],\n",
        "[72, 205], [75, 200], [74, 210], [74, 215], [77, 200], [75, 205], [73, 211], [72, 190], [71, 208], [74, 200], [77, 210], [75, 232], [75, 230], [75, 210], [78, 220], [78, 210], [74, 202], [76, 212], [78, 225], [76, 170], [70, 190], [72, 200], [80, 237],\n",
        "[74, 220], [74, 170], [71, 193], [70, 190], [72, 150], [71, 220], [74, 200], [71, 190], [72, 185], [71, 185], [74, 200], [69, 172], [76, 220], [75, 225], [75, 190], [76, 195], [73, 219], [76, 190], [73, 197], [77, 200], [73, 195], [72, 210], [72, 177],\n",
        "[77, 220], [77, 235], [71, 180], [74, 195], [74, 195], [73, 190], [78, 230], [75, 190], [73, 200], [70, 190], [74, 190], [72, 200], [73, 200], [73, 184], [75, 200], [75, 180], [74, 219], [76, 187], [73, 200], [74, 220], [75, 205], [75, 190], [72, 170],\n",
        "[73, 160], [73, 215], [72, 175], [74, 205], [78, 200], [76, 214], [73, 200], [74, 190], [75, 180], [70, 205], [75, 220], [71, 190], [72, 215], [78, 235], [75, 191], [73, 200], [73, 181], [71, 200], [75, 210], [77, 240], [72, 185], [69, 165], [73, 190],\n",
        "[74, 185], [72, 175], [70, 155], [75, 210], [70, 170], [72, 175], [72, 220], [74, 210], [73, 205], [74, 200], [76, 205], [75, 195], [80, 240], [72, 150], [75, 200], [73, 215], [74, 202], [74, 200], [73, 190], [75, 205], [75, 190], [71, 160], [73, 215],\n",
        "[75, 185], [74, 200], [74, 190], [72, 210], [74, 185], [74, 220], [74, 190], [73, 202], [76, 205], [75, 220], [72, 175], [73, 160], [73, 190], [73, 200], [72, 229], [72, 206], [72, 220], [72, 180], [71, 195], [75, 175], [75, 188], [74, 230], [73, 190],\n",
        "[75, 200], [79, 190], [74, 219], [76, 235], [73, 180], [74, 180], [74, 180], [72, 200], [74, 234], [74, 185], [75, 220], [78, 223], [74, 200], [74, 210], [74, 200], [77, 210], [70, 190], [73, 177], [74, 227], [73, 180], [71, 195], [75, 199], [71, 175],\n",
        "[72, 185], [77, 240], [74, 210], [70, 180], [77, 194], [73, 225], [72, 180], [76, 205], [71, 193], [76, 230], [78, 230], [75, 220], [73, 200], [78, 249], [74, 190], [79, 208], [75, 245], [76, 250], [72, 160], [75, 192], [75, 220], [70, 170], [72, 197],\n",
        "[70, 155], [74, 190], [71, 200], [76, 220], [73, 210], [76, 228], [71, 190], [69, 160], [72, 184], [72, 180], [69, 180], [73, 200], [69, 176], [73, 160], [74, 222], [74, 211], [72, 195], [71, 200], [72, 175], [72, 206], [76, 240], [76, 185], [76, 260],\n",
        "[74, 185], [76, 221], [75, 205], [71, 200], [72, 170], [71, 201], [73, 205], [75, 185], [76, 205], [75, 245], [71, 220], [75, 210], [74, 220], [72, 185], [73, 175], [73, 170], [73, 180], [73, 200], [76, 210], [72, 175], [76, 220], [73, 206], [73, 180],\n",
        "[73, 210], [75, 195], [75, 200], [77, 200], [73, 164], [72, 180], [75, 220], [70, 195], [74, 205], [72, 170], [80, 240], [71, 210], [71, 195], [74, 200], [74, 205], [73, 192], [75, 190], [76, 170], [73, 240], [77, 200], [72, 205], [73, 175], [77, 250],\n",
        "[76, 220], [71, 224], [75, 210], [73, 195], [74, 180], [77, 245], [71, 175], [72, 180], [73, 215], [69, 175], [73, 180], [70, 195], [74, 230], [76, 230], [73, 205], [73, 215], [75, 195], [73, 180], [79, 205], [74, 180], [73, 190], [74, 180], [77, 190],\n",
        "[75, 190], [74, 220], [73, 210], [77, 255], [73, 190], [77, 230], [74, 200], [74, 205], [73, 210], [77, 225], [74, 215], [77, 220], [75, 205], [77, 200], [75, 220], [71, 197], [74, 225], [70, 187], [79, 245], [72, 185], [72, 185], [70, 175], [74, 200],\n",
        "[74, 180], [72, 188], [73, 225], [72, 200], [74, 210], [74, 245], [76, 213], [82, 231], [74, 165], [74, 228], [70, 210], [73, 250], [73, 191], [74, 190], [77, 200], [72, 215], [76, 254], [73, 232], [73, 180], [72, 215], [74, 220], [74, 180], [71, 200],\n",
        "[72, 170], [75, 195], [74, 210], [74, 200], [77, 220], [70, 165], [71, 180], [73, 200], [76, 200], [71, 170], [75, 224], [74, 220], [72, 180], [76, 198], [79, 240], [76, 239], [73, 185], [76, 210], [78, 220], [75, 200], [76, 195], [72, 220], [72, 230],\n",
        "[73, 170], [73, 220], [75, 230], [71, 165], [76, 205], [70, 192], [75, 210], [74, 205], [75, 200], [73, 210], [71, 185], [71, 195], [72, 202], [73, 205], [73, 195], [72, 180], [69, 200], [73, 185], [78, 240], [71, 185], [73, 220], [75, 205], [76, 205],\n",
        "[70, 180], [74, 201], [77, 190], [75, 208], [79, 240], [72, 180], [77, 230], [73, 195], [75, 215], [75, 190], [75, 195], [73, 215], [73, 215], [76, 220], [77, 220], [75, 230], [70, 195], [71, 190], [71, 195], [75, 209], [74, 204], [69, 170], [70, 185],\n",
        "[75, 205], [72, 175], [75, 210], [73, 190], [72, 180], [72, 180], [72, 160], [76, 235], [75, 200], [74, 210], [69, 180], [73, 190], [72, 197], [72, 203], [75, 205], [77, 170], [76, 200], [80, 250], [77, 200], [76, 220], [79, 200], [71, 190], [75, 170],\n",
        "[73, 190], [76, 220], [77, 215], [73, 206], [76, 215], [70, 185], [75, 235], [73, 188], [75, 230], [70, 195], [69, 168], [71, 190], [72, 160], [72, 200], [73, 200], [70, 189], [70, 180], [73, 190], [76, 200], [75, 220], [72, 187], [73, 240], [79, 190],\n",
        "[71, 180], [72, 185], [74, 210], [74, 220], [74, 219], [72, 190], [76, 193], [76, 175], [72, 180], [72, 215], [71, 210], [72, 200], [72, 190], [70, 185], [77, 220], [74, 170], [72, 195], [76, 205], [71, 195], [76, 210], [71, 190], [73, 190], [70, 180],\n",
        "[73, 220], [73, 190], [72, 186], [71, 185], [71, 190], [71, 180], [72, 190], [72, 170], [74, 210], [74, 240], [74, 220], [71, 180], [72, 210], [75, 210], [72, 195], [71, 160], [72, 180], [72, 205], [72, 200], [72, 185], [74, 245], [74, 190], [77, 210],\n",
        "[75, 200], [73, 200], [75, 222], [73, 215], [76, 240], [72, 170], [77, 220], [75, 156], [72, 190], [71, 202], [71, 221], [75, 200], [72, 190], [73, 210], [73, 190], [71, 200], [70, 165], [75, 190], [71, 185], [76, 230], [73, 208], [68, 209], [71, 175],\n",
        "[72, 180], [74, 200], [77, 205], [72, 200], [76, 250], [78, 210], [81, 230], [72, 244], [73, 202], [76, 240], [72, 200], [72, 215], [74, 177], [76, 210], [73, 170], [76, 215], [75, 217], [70, 198], [71, 200], [74, 220], [72, 170], [73, 200], [76, 230],\n",
        "[76, 231], [73, 183], [71, 192], [68, 167], [71, 190], [71, 180], [74, 180], [77, 215], [69, 160], [72, 205], [76, 223], [75, 175], [76, 170], [75, 190], [76, 240], [72, 175], [74, 230], [76, 223], [74, 196], [72, 167], [75, 195], [78, 190], [77, 250],\n",
        "[70, 190], [72, 190], [79, 190], [74, 170], [71, 160], [68, 150], [77, 225], [75, 220], [71, 209], [72, 210], [70, 176], [72, 260], [72, 195], [73, 190], [72, 184], [74, 180], [72, 195], [72, 195], [75, 219], [72, 225], [73, 212], [74, 202], [72, 185],\n",
        "[78, 200], [75, 209], [72, 200], [74, 195], [75, 228], [75, 210], [76, 190], [74, 212], [74, 190], [73, 218], [74, 220], [71, 190], [74, 235], [75, 210], [76, 200], [74, 188], [76, 210], [76, 235], [73, 188], [75, 215], [75, 216], [74, 220], [68, 180],\n",
        "[72, 185], [75, 200], [71, 210], [70, 220], [72, 185], [73, 231], [72, 210], [75, 195], [74, 200], [70, 205], [76, 200], [71, 190], [82, 250], [72, 185], [73, 180], [74, 170], [71, 180], [75, 208], [77, 235], [72, 215], [74, 244], [72, 220], [73, 185],\n",
        "[78, 230], [77, 190], [73, 200], [73, 180], [73, 190], [73, 196], [73, 180], [76, 230], [75, 224], [70, 160], [73, 178], [72, 205], [73, 185], [75, 210], [74, 180], [73, 190], [73, 200], [76, 257], [73, 190], [75, 220], [70, 165], [77, 205], [72, 200],\n",
        "[77, 208], [74, 185], [75, 215], [75, 170], [75, 235], [75, 210], [72, 170], [74, 180], [71, 170], [76, 190], [71, 150], [75, 230], [76, 203], [83, 260], [75, 246], [74, 186], [76, 210], [72, 198], [72, 210], [75, 215], [75, 180], [72, 200], [77, 245],\n",
        "[73, 200], [72, 192], [70, 192], [74, 200], [72, 192], [74, 205], [72, 190], [71, 186], [70, 170], [71, 197], [76, 219], [74, 200], [76, 220], [74, 207], [74, 225], [74, 207], [75, 212], [75, 225], [71, 170], [71, 190], [74, 210], [77, 230], [71, 210],\n",
        "[74, 200], [75, 238], [77, 234], [76, 222], [74, 200], [76, 190], [72, 170], [71, 220], [72, 223], [75, 210], [73, 215], [68, 196], [72, 175], [69, 175], [73, 189], [73, 205], [75, 210], [70, 180], [70, 180], [74, 197], [75, 220], [74, 228], [74, 190],\n",
        "[73, 204], [74, 165], [75, 216], [77, 220], [73, 208], [74, 210], [76, 215], [74, 195], [75, 200], [73, 215], [76, 229], [78, 240], [75, 207], [73, 205], [77, 208], [74, 185], [72, 190], [74, 170], [72, 208], [71, 225], [73, 190], [75, 225], [73, 185],\n",
        "[67, 180], [67, 165], [76, 240], [74, 220], [73, 212], [70, 163], [75, 215], [70, 175], [72, 205], [77, 210], [79, 205], [78, 208],[74, 180], [74, 215], [72, 210], [72, 210], [73, 188], [69, 176], [69, 209], [71, 200], [76, 231], [71, 180], [73, 188],\n",
        "[73, 180], [74, 185], [74, 160],[77, 245]]"
      ],
      "metadata": {
        "id": "-WlniFYDaDzU"
      },
      "execution_count": 11,
      "outputs": []
    },
    {
      "cell_type": "markdown",
      "source": [
        "Task: Create a 2D Numpy array from data above"
      ],
      "metadata": {
        "id": "6AfDPGjhbfgG"
      }
    },
    {
      "cell_type": "code",
      "source": [
        "np_baseball=np.array(baseball)"
      ],
      "metadata": {
        "id": "1QZ9CR6bbRiN"
      },
      "execution_count": 12,
      "outputs": []
    },
    {
      "cell_type": "code",
      "source": [
        "np_baseball.shape"
      ],
      "metadata": {
        "colab": {
          "base_uri": "https://localhost:8080/"
        },
        "id": "dgwEiP7ZbvBR",
        "outputId": "41289979-4dee-4bd8-de8f-563bdf0b58ec"
      },
      "execution_count": 13,
      "outputs": [
        {
          "output_type": "execute_result",
          "data": {
            "text/plain": [
              "(1015, 2)"
            ]
          },
          "metadata": {},
          "execution_count": 13
        }
      ]
    },
    {
      "cell_type": "markdown",
      "source": [
        "**Subsetting 2D Numpy Array**"
      ],
      "metadata": {
        "id": "RbgTvn2gdAyV"
      }
    },
    {
      "cell_type": "markdown",
      "source": [
        "#### Example"
      ],
      "metadata": {
        "id": "efgl7awLdECE"
      }
    },
    {
      "cell_type": "code",
      "source": [
        "#create an array\n",
        "x = [[\"a\", \"b\"], [\"c\", \"d\"]]\n",
        "\n",
        "#import numpy as np\n",
        "import numpy as np\n",
        "\n",
        "#create numpy array\n",
        "np_x = np.array(x)\n",
        "\n",
        "#print np_x\n",
        "print(np_x)"
      ],
      "metadata": {
        "colab": {
          "base_uri": "https://localhost:8080/"
        },
        "id": "xPz_4H2ybxvM",
        "outputId": "86d94812-250b-45ee-e82c-a13c1b8143ba"
      },
      "execution_count": 45,
      "outputs": [
        {
          "output_type": "stream",
          "name": "stdout",
          "text": [
            "[['a' 'b']\n",
            " ['c' 'd']]\n"
          ]
        }
      ]
    },
    {
      "cell_type": "code",
      "source": [
        "np_x[0][0]"
      ],
      "metadata": {
        "colab": {
          "base_uri": "https://localhost:8080/",
          "height": 35
        },
        "id": "A_7TBZjlwCLE",
        "outputId": "e43b02a7-9cd3-4a7e-8ff5-de026d41411e"
      },
      "execution_count": 93,
      "outputs": [
        {
          "output_type": "execute_result",
          "data": {
            "application/vnd.google.colaboratory.intrinsic+json": {
              "type": "string"
            },
            "text/plain": [
              "'a'"
            ]
          },
          "metadata": {},
          "execution_count": 93
        }
      ]
    },
    {
      "cell_type": "code",
      "source": [
        "np_x[0]"
      ],
      "metadata": {
        "colab": {
          "base_uri": "https://localhost:8080/"
        },
        "id": "9U0PnBOGvyxR",
        "outputId": "6c58f6aa-5b0d-4b28-b073-9ec0c2a5f0cb"
      },
      "execution_count": 92,
      "outputs": [
        {
          "output_type": "execute_result",
          "data": {
            "text/plain": [
              "array(['a', 'b'], dtype='<U1')"
            ]
          },
          "metadata": {},
          "execution_count": 92
        }
      ]
    },
    {
      "cell_type": "code",
      "source": [
        "#select a single row\n",
        "np_x[1,:]"
      ],
      "metadata": {
        "colab": {
          "base_uri": "https://localhost:8080/"
        },
        "id": "zgQtmTdZfWby",
        "outputId": "36f9b6a9-c882-4d3a-9075-de42702e0d8d"
      },
      "execution_count": 43,
      "outputs": [
        {
          "output_type": "execute_result",
          "data": {
            "text/plain": [
              "array(['c', 'd'], dtype='<U1')"
            ]
          },
          "metadata": {},
          "execution_count": 43
        }
      ]
    },
    {
      "cell_type": "code",
      "source": [
        "#select a single column\n",
        "np_x[:,1]"
      ],
      "metadata": {
        "colab": {
          "base_uri": "https://localhost:8080/"
        },
        "id": "AiEvbeUodOiO",
        "outputId": "2ca4625b-03ff-46f2-b5d5-287fd0162069"
      },
      "execution_count": 16,
      "outputs": [
        {
          "output_type": "execute_result",
          "data": {
            "text/plain": [
              "array(['b', 'd'], dtype='<U1')"
            ]
          },
          "metadata": {},
          "execution_count": 16
        }
      ]
    },
    {
      "cell_type": "code",
      "source": [
        "#combination of rows & columns\n",
        "np_x[:,1]"
      ],
      "metadata": {
        "colab": {
          "base_uri": "https://localhost:8080/"
        },
        "id": "g2Z6CVFRdRTG",
        "outputId": "cc86e675-e4a2-450c-f80c-1ef914503af5"
      },
      "execution_count": 20,
      "outputs": [
        {
          "output_type": "execute_result",
          "data": {
            "text/plain": [
              "array(['b', 'd'], dtype='<U1')"
            ]
          },
          "metadata": {},
          "execution_count": 20
        }
      ]
    },
    {
      "cell_type": "code",
      "source": [
        "#combination of rows & columns\n",
        "print(np_x[1:,0])"
      ],
      "metadata": {
        "colab": {
          "base_uri": "https://localhost:8080/"
        },
        "id": "6tsLO6ISdXcZ",
        "outputId": "5a02f65b-2400-4ce6-a598-a5fff156c481"
      },
      "execution_count": 38,
      "outputs": [
        {
          "output_type": "stream",
          "name": "stdout",
          "text": [
            "['c']\n"
          ]
        }
      ]
    },
    {
      "cell_type": "code",
      "source": [
        "#combination of rows & columns\n",
        "print(np_x[1:,1])"
      ],
      "metadata": {
        "colab": {
          "base_uri": "https://localhost:8080/"
        },
        "id": "y0Sf0r6xfDER",
        "outputId": "9d59a7ca-c9f0-4ace-ec03-b13778f1a7a5"
      },
      "execution_count": 39,
      "outputs": [
        {
          "output_type": "stream",
          "name": "stdout",
          "text": [
            "['d']\n"
          ]
        }
      ]
    },
    {
      "cell_type": "code",
      "source": [
        "print(np_x[:,0])"
      ],
      "metadata": {
        "colab": {
          "base_uri": "https://localhost:8080/"
        },
        "id": "0vzA3InCdlia",
        "outputId": "074b51b3-1519-4b76-f48b-64f4fd1f0819"
      },
      "execution_count": 48,
      "outputs": [
        {
          "output_type": "stream",
          "name": "stdout",
          "text": [
            "['a' 'c']\n"
          ]
        }
      ]
    },
    {
      "cell_type": "markdown",
      "source": [
        "**Task**\n",
        "*   print out 50th row of np_baseball"
      ],
      "metadata": {
        "id": "qiljTT3tgSEe"
      }
    },
    {
      "cell_type": "code",
      "source": [
        "print(np_baseball.shape)"
      ],
      "metadata": {
        "colab": {
          "base_uri": "https://localhost:8080/"
        },
        "id": "CkACtnrbeUwH",
        "outputId": "185326d9-51ea-4115-f894-9b4b73fb4c36"
      },
      "execution_count": 49,
      "outputs": [
        {
          "output_type": "stream",
          "name": "stdout",
          "text": [
            "(1015, 2)\n"
          ]
        }
      ]
    },
    {
      "cell_type": "code",
      "source": [
        "print(np_baseball[49,:])"
      ],
      "metadata": {
        "colab": {
          "base_uri": "https://localhost:8080/"
        },
        "id": "QUAnvDpugdCx",
        "outputId": "a3e96f78-1fd8-4d15-ad08-60de53582156"
      },
      "execution_count": 50,
      "outputs": [
        {
          "output_type": "stream",
          "name": "stdout",
          "text": [
            "[ 70 195]\n"
          ]
        }
      ]
    },
    {
      "cell_type": "markdown",
      "source": [
        "Task: Make a new variable, np_weight_lb_n, containing the entire second column of np_baseball."
      ],
      "metadata": {
        "id": "y4Tq2ZQ9iYPC"
      }
    },
    {
      "cell_type": "code",
      "source": [
        "np_weight_lb_in=np_baseball[:,1]\n",
        "\n",
        "print(np_weight_lb_in)"
      ],
      "metadata": {
        "colab": {
          "base_uri": "https://localhost:8080/"
        },
        "id": "eBnXDRnHglnp",
        "outputId": "c69a4c46-2a77-459a-d950-386d31d5348c"
      },
      "execution_count": 63,
      "outputs": [
        {
          "output_type": "stream",
          "name": "stdout",
          "text": [
            "[180 215 210 ... 185 160 245]\n"
          ]
        }
      ]
    },
    {
      "cell_type": "code",
      "source": [
        "print(np_baseball[0,:])"
      ],
      "metadata": {
        "colab": {
          "base_uri": "https://localhost:8080/"
        },
        "id": "5BVfvf5giI8B",
        "outputId": "af8a703e-08ea-4e4b-de25-d56121c490fd"
      },
      "execution_count": 65,
      "outputs": [
        {
          "output_type": "stream",
          "name": "stdout",
          "text": [
            "[ 74 180]\n"
          ]
        }
      ]
    },
    {
      "cell_type": "markdown",
      "source": [
        "**Task**:Select the height (first column) of the 124th baseball player in np_baseball and print\n",
        "it out."
      ],
      "metadata": {
        "id": "xrMMPv8-pBXY"
      }
    },
    {
      "cell_type": "code",
      "source": [
        "print(np_baseball[123,:])"
      ],
      "metadata": {
        "colab": {
          "base_uri": "https://localhost:8080/"
        },
        "id": "x_CIiQCHi1mv",
        "outputId": "e6805e20-818e-4921-b362-c4c8111c7c50"
      },
      "execution_count": 70,
      "outputs": [
        {
          "output_type": "stream",
          "name": "stdout",
          "text": [
            "[ 75 200]\n"
          ]
        }
      ]
    },
    {
      "cell_type": "code",
      "source": [
        "print(np_baseball[123,:1])"
      ],
      "metadata": {
        "colab": {
          "base_uri": "https://localhost:8080/"
        },
        "id": "tdZLc6BipLYf",
        "outputId": "010925fc-e209-4d36-8e30-988f8c2460d9"
      },
      "execution_count": 73,
      "outputs": [
        {
          "output_type": "stream",
          "name": "stdout",
          "text": [
            "[75]\n"
          ]
        }
      ]
    },
    {
      "cell_type": "markdown",
      "source": [
        "**2D Arithmetic Example**"
      ],
      "metadata": {
        "id": "8xDX0vLHqL0F"
      }
    },
    {
      "cell_type": "code",
      "source": [
        "#creating an array\n",
        "test_array = [[1, 2], [3, 4], [5, 6]]\n",
        "\n",
        "#import numpy as np\n",
        "import numpy as np\n",
        "\n",
        "#create numpy array from test_array\n",
        "np_test_array = np.array(test_array)\n",
        "\n",
        "#addition to np_test_array\n",
        "np_test_array = np_test_array + np.array([10, 10])\n",
        "\n",
        "#print np_test_array\n",
        "print(np_test_array)"
      ],
      "metadata": {
        "colab": {
          "base_uri": "https://localhost:8080/"
        },
        "id": "GA-zjrFmpWPm",
        "outputId": "b351c768-ffcd-44f5-b1d9-1e6d6ef40ef4"
      },
      "execution_count": 75,
      "outputs": [
        {
          "output_type": "stream",
          "name": "stdout",
          "text": [
            "[[11 12]\n",
            " [13 14]\n",
            " [15 16]]\n"
          ]
        }
      ]
    },
    {
      "cell_type": "code",
      "source": [
        "#addition to np_test_array\n",
        "np_test_array = np_test_array + np.array([10, 5])\n",
        "\n",
        "#print np_test_array\n",
        "print(np_test_array)"
      ],
      "metadata": {
        "colab": {
          "base_uri": "https://localhost:8080/"
        },
        "id": "XeJIH_UEqW3r",
        "outputId": "46177ac6-11b5-4446-a1fc-5edf364ec672"
      },
      "execution_count": 76,
      "outputs": [
        {
          "output_type": "stream",
          "name": "stdout",
          "text": [
            "[[21 17]\n",
            " [23 19]\n",
            " [25 21]]\n"
          ]
        }
      ]
    },
    {
      "cell_type": "markdown",
      "source": [
        "#### *Multiplication Example*"
      ],
      "metadata": {
        "id": "68D5Wi-xq7Fq"
      }
    },
    {
      "cell_type": "code",
      "source": [
        "#creating an array\n",
        "test_array = [[1, 2], [3, 4], [5, 6]]\n",
        "\n",
        "#import numpy as np\n",
        "import numpy as np\n",
        "\n",
        "#create numpy array from test_array\n",
        "np_test_array = np.array(test_array)\n",
        "\n",
        "#multiplying np_test_array with 2\n",
        "np_test_array=np_test_array * 2\n",
        "\n",
        "#print np_test_array\n",
        "print(np_test_array)\n"
      ],
      "metadata": {
        "colab": {
          "base_uri": "https://localhost:8080/"
        },
        "id": "vrN53Da9quVS",
        "outputId": "ee283c59-86f7-46ba-f1e3-50776845596b"
      },
      "execution_count": 78,
      "outputs": [
        {
          "output_type": "stream",
          "name": "stdout",
          "text": [
            "[[ 2  4]\n",
            " [ 6  8]\n",
            " [10 12]]\n"
          ]
        }
      ]
    },
    {
      "cell_type": "markdown",
      "source": [
        "**Task**"
      ],
      "metadata": {
        "id": "9H2G52nzrb4y"
      }
    },
    {
      "cell_type": "markdown",
      "source": [
        "Create a Numpy Array price_2020x using the below matrix and add 100 to it.\n"
      ],
      "metadata": {
        "id": "4NFpxaCHtaCh"
      }
    },
    {
      "cell_type": "code",
      "source": [
        "#creating an array\n",
        "price_2020x = [[690, 199], [199, 192], [959, 913], [683, 129], [188, 510], [592, 207], [245, 507]]\n",
        "\n",
        "#import numpy as np\n",
        "import numpy as np\n",
        "\n",
        "#create numpy array from price_2020x\n",
        "np_price_2020x = np.array(price_2020x)\n",
        "\n",
        "#addition to np_ price_2020x\n",
        "np_price_2020x = np_price_2020x+ 100\n",
        "\n",
        "#print np_ price_2020x\n",
        "print(np_price_2020x)"
      ],
      "metadata": {
        "colab": {
          "base_uri": "https://localhost:8080/"
        },
        "id": "bcTuS0-lrC8m",
        "outputId": "f188dc5b-9d2c-4e83-cc2a-c0be23604c8b"
      },
      "execution_count": 79,
      "outputs": [
        {
          "output_type": "stream",
          "name": "stdout",
          "text": [
            "[[ 790  299]\n",
            " [ 299  292]\n",
            " [1059 1013]\n",
            " [ 783  229]\n",
            " [ 288  610]\n",
            " [ 692  307]\n",
            " [ 345  607]]\n"
          ]
        }
      ]
    },
    {
      "cell_type": "markdown",
      "source": [
        "**Task**\n",
        "*   Create a Numpy Array price_2020x. \n",
        " Multiply the Price in 2019 to the Inflation Rate\n",
        "(7 %) and Store the new price as price2020x_adjusted\n",
        "\n",
        "\n"
      ],
      "metadata": {
        "id": "h_hgGCO9rt46"
      }
    },
    {
      "cell_type": "code",
      "source": [
        "print(np_price_2020x[:,0])"
      ],
      "metadata": {
        "colab": {
          "base_uri": "https://localhost:8080/"
        },
        "id": "TdgTRYV4rgF9",
        "outputId": "9553dc77-1c97-47ff-a4ce-63a26bcdd928"
      },
      "execution_count": 88,
      "outputs": [
        {
          "output_type": "stream",
          "name": "stdout",
          "text": [
            "[ 790  299 1059  783  288  692  345]\n"
          ]
        }
      ]
    },
    {
      "cell_type": "code",
      "source": [
        "price2020x_adjusted=np_price_2020x[:,0]*0.07\n",
        "print(price2020x_adjusted)"
      ],
      "metadata": {
        "colab": {
          "base_uri": "https://localhost:8080/"
        },
        "id": "qep9K_VjsauD",
        "outputId": "f8e07430-28b9-4058-9104-fb2db264afec"
      },
      "execution_count": 89,
      "outputs": [
        {
          "output_type": "stream",
          "name": "stdout",
          "text": [
            "[55.3  20.93 74.13 54.81 20.16 48.44 24.15]\n"
          ]
        }
      ]
    },
    {
      "cell_type": "code",
      "source": [
        ""
      ],
      "metadata": {
        "id": "3p9eeSw6tFbl"
      },
      "execution_count": null,
      "outputs": []
    }
  ]
}